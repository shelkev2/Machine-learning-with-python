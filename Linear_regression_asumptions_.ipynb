{
  "nbformat": 4,
  "nbformat_minor": 0,
  "metadata": {
    "colab": {
      "name": "Linear regression asumptions .ipynb",
      "version": "0.3.2",
      "provenance": [],
      "collapsed_sections": []
    },
    "kernelspec": {
      "name": "python3",
      "display_name": "Python 3"
    }
  },
  "cells": [
    {
      "cell_type": "markdown",
      "metadata": {
        "id": "4EBa_bQQHlob",
        "colab_type": "text"
      },
      "source": [
        "# 1) (i) linearity and additivity of the relationship between dependent and independent variables:\n",
        "\n",
        "    (a) The expected value of dependent variable is a straight-line function of each independent variable, holding the others fixed.\n",
        "\n",
        "    (b) The slope of that line does not depend on the values of the other variables.\n",
        "\n",
        "    (c)  The effects of different independent variables on the expected value of the dependent variable are additive."
      ]
    },
    {
      "cell_type": "markdown",
      "metadata": {
        "id": "lU5Xd31oHgRs",
        "colab_type": "text"
      },
      "source": [
        "# 2) Mean of residuals should be zero or close to 0 as much as possible. It is done to check whether our line is actually the line of “best fit”.\n",
        "\n",
        "error=observed- predicted\n"
      ]
    },
    {
      "cell_type": "markdown",
      "metadata": {
        "id": "Bf8Jsdi2IkQU",
        "colab_type": "text"
      },
      "source": [
        "# 3) Little or no auto-correlation\n",
        "\n",
        "The presence of correlation in error terms drastically reduces model’s accuracy. This usually occurs in time series models where the next instant is dependent on previous instant. If the error terms are correlated, the estimated standard errors tend to underestimate the true standard error."
      ]
    },
    {
      "cell_type": "markdown",
      "metadata": {
        "id": "BDDOzfi3IkM-",
        "colab_type": "text"
      },
      "source": [
        "#4) Little or no multi-collinearity: (corelation bet x [check corelation & remove highly corelated variable  ])\n",
        "It is assumed that there is little or no multicollinearity in the data. Multicollinearity occurs when the features (or independent variables) are not independent from each other"
      ]
    },
    {
      "cell_type": "markdown",
      "metadata": {
        "id": "GQQDbN01KFkC",
        "colab_type": "text"
      },
      "source": [
        "# 5) There should be homoscedasticity or equal variance in our regression model.\n",
        "\n",
        "This assumption means that the variance around the regression line is the same for all values of the predictor variable (X). The sample plot below shows a violation of this assumption. For the lower values on the X-axis, the points are all very near the regression line. For the higher values on the X-axis, there is much more variability around the regression line.\n",
        "\n",
        "To check homoscedasticity, we make a plot of residual values on the y-axis and the predicted values on the x-axis. If we see a bell curve, then we can say that there is no homoscedasticity. It means that the variability of a variable is unequal across the range of values of a second variable that predicts it.\n"
      ]
    },
    {
      "cell_type": "markdown",
      "metadata": {
        "id": "xRHns1NdKSkO",
        "colab_type": "text"
      },
      "source": [
        "# 6) The number of observations must be greater than number of Xs\n",
        "\n",
        "# 7) The variability in X values is positive\n",
        "This means the X values in a given sample must not all be the same (or even nearly the same)."
      ]
    },
    {
      "cell_type": "markdown",
      "metadata": {
        "id": "IB-DcQ_DKx_L",
        "colab_type": "text"
      },
      "source": [
        "# with explanation\n",
        "1)  Linear Relationship Between Target & Features"
      ]
    },
    {
      "cell_type": "code",
      "metadata": {
        "id": "gtpHZkTqHjUq",
        "colab_type": "code",
        "colab": {}
      },
      "source": [
        "import numpy as np\n",
        "np.random.seed(20)\n",
        "x = np.arange(20)\n",
        "y = [x*2 + np.random.rand(1)*4 for x in range(20)]"
      ],
      "execution_count": 0,
      "outputs": []
    },
    {
      "cell_type": "code",
      "metadata": {
        "id": "Kjbmu9DRK7Rs",
        "colab_type": "code",
        "colab": {
          "base_uri": "https://localhost:8080/",
          "height": 51
        },
        "outputId": "83de43de-85f8-48bd-9306-0a2a16d91772"
      },
      "source": [
        "x"
      ],
      "execution_count": 2,
      "outputs": [
        {
          "output_type": "execute_result",
          "data": {
            "text/plain": [
              "array([ 0,  1,  2,  3,  4,  5,  6,  7,  8,  9, 10, 11, 12, 13, 14, 15, 16,\n",
              "       17, 18, 19])"
            ]
          },
          "metadata": {
            "tags": []
          },
          "execution_count": 2
        }
      ]
    },
    {
      "cell_type": "code",
      "metadata": {
        "id": "UA_oVfazK9LW",
        "colab_type": "code",
        "colab": {
          "base_uri": "https://localhost:8080/",
          "height": 357
        },
        "outputId": "d74cd1dd-748d-4206-c5f5-229812dc9380"
      },
      "source": [
        "#Next, we need to reshape the array named x because sklearn requires a 2D array\n",
        "\n",
        "x_reshape = x.reshape(-1,1)\n",
        "x_reshape\n",
        "\n",
        "# we’re faking a 2D array here by using the .reshape(-1,1) method."
      ],
      "execution_count": 6,
      "outputs": [
        {
          "output_type": "execute_result",
          "data": {
            "text/plain": [
              "array([[ 0],\n",
              "       [ 1],\n",
              "       [ 2],\n",
              "       [ 3],\n",
              "       [ 4],\n",
              "       [ 5],\n",
              "       [ 6],\n",
              "       [ 7],\n",
              "       [ 8],\n",
              "       [ 9],\n",
              "       [10],\n",
              "       [11],\n",
              "       [12],\n",
              "       [13],\n",
              "       [14],\n",
              "       [15],\n",
              "       [16],\n",
              "       [17],\n",
              "       [18],\n",
              "       [19]])"
            ]
          },
          "metadata": {
            "tags": []
          },
          "execution_count": 6
        }
      ]
    },
    {
      "cell_type": "code",
      "metadata": {
        "id": "k2S12EhtK_Su",
        "colab_type": "code",
        "colab": {
          "base_uri": "https://localhost:8080/",
          "height": 34
        },
        "outputId": "d89457fa-a2e6-4e56-9cc3-a100f6919a1d"
      },
      "source": [
        "from sklearn.linear_model import LinearRegression\n",
        "linear = LinearRegression()\n",
        "linear.fit(x_reshape, y)"
      ],
      "execution_count": 7,
      "outputs": [
        {
          "output_type": "execute_result",
          "data": {
            "text/plain": [
              "LinearRegression(copy_X=True, fit_intercept=True, n_jobs=None, normalize=False)"
            ]
          },
          "metadata": {
            "tags": []
          },
          "execution_count": 7
        }
      ]
    },
    {
      "cell_type": "code",
      "metadata": {
        "id": "6ZhzaoCpMdOU",
        "colab_type": "code",
        "colab": {}
      },
      "source": [
        "Y_pred = linear.predict(x_reshape)"
      ],
      "execution_count": 0,
      "outputs": []
    },
    {
      "cell_type": "code",
      "metadata": {
        "id": "xPudfs96LTSz",
        "colab_type": "code",
        "colab": {
          "base_uri": "https://localhost:8080/",
          "height": 269
        },
        "outputId": "62032bb7-2e45-4a60-d37e-6dd6f4964b4e"
      },
      "source": [
        "\n",
        "import matplotlib.pyplot as plt\n",
        "\n",
        "plt.scatter(x_reshape, y)\n",
        "plt.plot(x, Y_pred, color='red')\n",
        "plt.show()\n",
        "\n",
        "\n",
        "\n"
      ],
      "execution_count": 16,
      "outputs": [
        {
          "output_type": "display_data",
          "data": {
            "image/png": "[encoded data removed]",
            "text/plain": [
              "<Figure size 432x288 with 1 Axes>"
            ]
          },
          "metadata": {
            "tags": []
          }
        }
      ]
    },
    {
      "cell_type": "code",
      "metadata": {
        "id": "tVqxtCJOLZ5J",
        "colab_type": "code",
        "colab": {}
      },
      "source": [
        "class Stats:\n",
        "    \n",
        "    def __init__(self, X, y, model):\n",
        "        self.data = X\n",
        "        self.target = y\n",
        "        self.model = model\n",
        "        ## degrees of freedom population dep. variable variance\n",
        "        self._dft = X.shape[0] - 1   \n",
        "        ## degrees of freedom population error variance\n",
        "        self._dfe = X.shape[0] - X.shape[1] - 1  \n",
        "    \n",
        "    def sse(self):\n",
        "        '''returns sum of squared errors (model vs actual)'''\n",
        "        squared_errors = (self.target - self.model.predict(self.data)) ** 2\n",
        "        return np.sum(squared_errors)\n",
        "        \n",
        "    def sst(self):\n",
        "        '''returns total sum of squared errors (actual vs avg(actual))'''\n",
        "        avg_y = np.mean(self.target)\n",
        "        squared_errors = (self.target - avg_y) ** 2\n",
        "        return np.sum(squared_errors)\n",
        "    \n",
        "    def r_squared(self):\n",
        "        '''returns calculated value of r^2'''\n",
        "        return 1 - self.sse()/self.sst()\n",
        "    \n",
        "    def adj_r_squared(self):\n",
        "        '''returns calculated value of adjusted r^2'''\n",
        "        return 1 - (self.sse()/self._dfe) / (self.sst()/self._dft)\n",
        "      \n",
        "      "
      ],
      "execution_count": 0,
      "outputs": []
    },
    {
      "cell_type": "code",
      "metadata": {
        "id": "JwVCm3JTN9Iw",
        "colab_type": "code",
        "colab": {}
      },
      "source": [
        "def pretty_print_stats(stats_obj):\n",
        "    '''returns report of statistics for a given model object'''\n",
        "    items = ( ('sse:', stats_obj.sse()), ('sst:', stats_obj.sst()), \n",
        "             ('r^2:', stats_obj.r_squared()), ('adj_r^2:', stats_obj.adj_r_squared()) )\n",
        "    for item in items:\n",
        "        print('{0:8} {1:.4f}'.format(item[0], item[1]))"
      ],
      "execution_count": 0,
      "outputs": []
    },
    {
      "cell_type": "code",
      "metadata": {
        "id": "bmXTaxK6N_2M",
        "colab_type": "code",
        "colab": {
          "base_uri": "https://localhost:8080/",
          "height": 85
        },
        "outputId": "90c29daf-71cb-46c8-ba28-3646617c6852"
      },
      "source": [
        "s1 = Stats(x_reshape, y, linear)\n",
        "pretty_print_stats(s1)"
      ],
      "execution_count": 19,
      "outputs": [
        {
          "output_type": "stream",
          "text": [
            "sse:     24.3975\n",
            "sst:     2502.9934\n",
            "r^2:     0.9903\n",
            "adj_r^2: 0.9897\n"
          ],
          "name": "stdout"
        }
      ]
    },
    {
      "cell_type": "code",
      "metadata": {
        "id": "KTdv6SCcOCTk",
        "colab_type": "code",
        "colab": {
          "base_uri": "https://localhost:8080/",
          "height": 34
        },
        "outputId": "9b2a35fe-4243-4682-ee5f-65d597db9dab"
      },
      "source": [
        "# Potential Problem: Data w/Nonlinear Pattern\n",
        "\n",
        "\n",
        "y_nonlinear = [x**3 + np.random.rand(1)*10 for x in range(20)]\n",
        "nonlinear = LinearRegression()\n",
        "nonlinear.fit(x_reshape, y_nonlinear)"
      ],
      "execution_count": 20,
      "outputs": [
        {
          "output_type": "execute_result",
          "data": {
            "text/plain": [
              "LinearRegression(copy_X=True, fit_intercept=True, n_jobs=None, normalize=False)"
            ]
          },
          "metadata": {
            "tags": []
          },
          "execution_count": 20
        }
      ]
    },
    {
      "cell_type": "code",
      "metadata": {
        "id": "rxRZ-p_eOMqT",
        "colab_type": "code",
        "colab": {}
      },
      "source": [
        "yp=nonlinear.predict(x_reshape)"
      ],
      "execution_count": 0,
      "outputs": []
    },
    {
      "cell_type": "code",
      "metadata": {
        "id": "i0NDUl4VOWHh",
        "colab_type": "code",
        "colab": {
          "base_uri": "https://localhost:8080/",
          "height": 269
        },
        "outputId": "e6b990b8-79b0-46fb-e873-be054edebfd4"
      },
      "source": [
        "import matplotlib.pyplot as plt\n",
        "\n",
        "plt.scatter(x_reshape, y_nonlinear)\n",
        "plt.plot(x_reshape, yp, color='red')\n",
        "plt.show()\n"
      ],
      "execution_count": 23,
      "outputs": [
        {
          "output_type": "display_data",
          "data": {
            "image/png": "[encoded data removed]",
            "text/plain": [
              "<Figure size 432x288 with 1 Axes>"
            ]
          },
          "metadata": {
            "tags": []
          }
        }
      ]
    },
    {
      "cell_type": "code",
      "metadata": {
        "id": "JDG4XgWPOgll",
        "colab_type": "code",
        "colab": {
          "base_uri": "https://localhost:8080/",
          "height": 54
        },
        "outputId": "d467dc7e-2780-459f-f611-b2f73979c373"
      },
      "source": [
        "'''\n",
        "That works well for low dimensional cases that are easy to visualize but how will you know if you have more than 2-3 features? \n",
        "The residual plot is a powerful tool in that case and something you should leverage often.\n",
        "\n",
        "Let’s now plot a histogram of residuals to see if they’re Normally distributed for the linear case.\n",
        "'''"
      ],
      "execution_count": 24,
      "outputs": [
        {
          "output_type": "execute_result",
          "data": {
            "text/plain": [
              "'\\nThat works well for low dimensional cases that are easy to visualize but how will you know if you have more than 2-3 features? \\nThe residual plot is a powerful tool in that case and something you should leverage often.\\n\\nLet’s now plot a histogram of residuals to see if they’re Normally distributed for the linear case.\\n'"
            ]
          },
          "metadata": {
            "tags": []
          },
          "execution_count": 24
        }
      ]
    },
    {
      "cell_type": "code",
      "metadata": {
        "id": "LrEnOtaiO5X3",
        "colab_type": "code",
        "colab": {
          "base_uri": "https://localhost:8080/",
          "height": 298
        },
        "outputId": "557a729f-1b0d-4805-d45c-44687d055bcc"
      },
      "source": [
        "import seaborn as sns\n",
        "\n",
        "residuals_linear = y - linear.predict(x_reshape)\n",
        "residuals_nlinear = y_nonlinear - nonlinear.predict(x_reshape)\n",
        "\n",
        "sns.distplot(residuals_linear);\n",
        "plt.title('Linear')"
      ],
      "execution_count": 25,
      "outputs": [
        {
          "output_type": "execute_result",
          "data": {
            "text/plain": [
              "Text(0.5, 1.0, 'Linear')"
            ]
          },
          "metadata": {
            "tags": []
          },
          "execution_count": 25
        },
        {
          "output_type": "display_data",
          "data": {
            "image/png": "[encoded data removed]",
            "text/plain": [
              "<Figure size 432x288 with 1 Axes>"
            ]
          },
          "metadata": {
            "tags": []
          }
        }
      ]
    },
    {
      "cell_type": "code",
      "metadata": {
        "id": "rzR2ODH9O7_O",
        "colab_type": "code",
        "colab": {
          "base_uri": "https://localhost:8080/",
          "height": 298
        },
        "outputId": "c3d6a936-5131-4c4d-eb89-2b97cd1c788c"
      },
      "source": [
        "# now for the nonlinear case.\n",
        "\n",
        "sns.distplot(residuals_nlinear)\n",
        "plt.title('Non-Linear')"
      ],
      "execution_count": 26,
      "outputs": [
        {
          "output_type": "execute_result",
          "data": {
            "text/plain": [
              "Text(0.5, 1.0, 'Non-Linear')"
            ]
          },
          "metadata": {
            "tags": []
          },
          "execution_count": 26
        },
        {
          "output_type": "display_data",
          "data": {
            "image/png": "[encoded data removed]",
            "text/plain": [
              "<Figure size 432x288 with 1 Axes>"
            ]
          },
          "metadata": {
            "tags": []
          }
        }
      ]
    },
    {
      "cell_type": "markdown",
      "metadata": {
        "id": "dHwsEB9sPGqv",
        "colab_type": "text"
      },
      "source": [
        "The histogram of the linear model on linear data looks approximately Normal (aka Gaussian) while the second histogram shows a skew. But is there a more quantitative method to test for Normality"
      ]
    },
    {
      "cell_type": "code",
      "metadata": {
        "id": "JfanN8LhO_1p",
        "colab_type": "code",
        "colab": {
          "base_uri": "https://localhost:8080/",
          "height": 34
        },
        "outputId": "531ac75b-a5db-4f52-921c-7e3051c6c9e1"
      },
      "source": [
        "from scipy.stats import normaltest\n",
        "normaltest(residuals_linear)"
      ],
      "execution_count": 27,
      "outputs": [
        {
          "output_type": "execute_result",
          "data": {
            "text/plain": [
              "NormaltestResult(statistic=array([1.71234546]), pvalue=array([0.42478474]))"
            ]
          },
          "metadata": {
            "tags": []
          },
          "execution_count": 27
        }
      ]
    },
    {
      "cell_type": "markdown",
      "metadata": {
        "id": "XHSFISw_PTRf",
        "colab_type": "text"
      },
      "source": [
        "The null hypothesis is that the residual distribution is Normally distributed. Since the p-value > 0.05, we cannot reject the null. In other words, we can confidently say the residuals are Normally distributed."
      ]
    },
    {
      "cell_type": "markdown",
      "metadata": {
        "id": "_S2SOyemPiXj",
        "colab_type": "text"
      },
      "source": [
        "# Possible Solutions to Nonlinear Data\n",
        "Consider transforming the features\n",
        "Consider applying a different algorithm"
      ]
    },
    {
      "cell_type": "markdown",
      "metadata": {
        "id": "9PptleJkP7pU",
        "colab_type": "text"
      },
      "source": [
        "#2) No Outliers\n",
        "\n",
        "Investigate the outlier(s). Do NOT assume these cases are just bad data. Some outliers are true examples while others are data entry errors. You need to know which it is before proceeding.\n",
        "\n",
        "Consider imputing (replace by median (most time), mean, mode)or removing outliers."
      ]
    },
    {
      "cell_type": "markdown",
      "metadata": {
        "id": "ocMCaQ3CQ4zF",
        "colab_type": "text"
      },
      "source": [
        "# 3) There should be no perfect multicollinearity in your model. (There is no perfect linear relationship between X variables)\n",
        "\n",
        "Multicollinearity generally occurs when there are high correlations between two or more independent variables. In other words, one independent variable can be used to predict the other. This creates redundant information, skewing the results in a regression model. \n",
        "\n",
        "We can check multicollinearity using VIF(variance inflation factor). Higher the VIF for an independent variable, more is the chance that variable is already explained by other independent variables"
      ]
    },
    {
      "cell_type": "code",
      "metadata": {
        "id": "1FkwkJpHPJhL",
        "colab_type": "code",
        "colab": {}
      },
      "source": [
        "#create sample dataset with 3 x features\n",
        "\n",
        "from sklearn.datasets.samples_generator import make_regression\n",
        "x3, y3 = make_regression(n_samples=100, n_features=3, noise=20)\n",
        "\n",
        "#convert to a pandas dataframe\n",
        "import pandas as pd\n",
        "df = pd.DataFrame(x3)\n",
        "df.columns = ['x1','x2','x3']\n",
        "\n",
        "#generate correlation matrix\n",
        "corr = df.corr()"
      ],
      "execution_count": 0,
      "outputs": []
    },
    {
      "cell_type": "code",
      "metadata": {
        "id": "Y-NaLYzsRC0G",
        "colab_type": "code",
        "colab": {
          "base_uri": "https://localhost:8080/",
          "height": 85
        },
        "outputId": "24c6005c-db93-4ddb-e0ca-7c6721a0788c"
      },
      "source": [
        "print(corr)"
      ],
      "execution_count": 30,
      "outputs": [
        {
          "output_type": "stream",
          "text": [
            "          x1        x2        x3\n",
            "x1  1.000000  0.102503  0.051445\n",
            "x2  0.102503  1.000000 -0.106644\n",
            "x3  0.051445 -0.106644  1.000000\n"
          ],
          "name": "stdout"
        }
      ]
    },
    {
      "cell_type": "code",
      "metadata": {
        "id": "7QuyRJz5RKaN",
        "colab_type": "code",
        "colab": {
          "base_uri": "https://localhost:8080/",
          "height": 103
        },
        "outputId": "db9c1532-74a7-4719-d149-050a259ae63b"
      },
      "source": [
        "corr.style.background_gradient(cmap='coolwarm')"
      ],
      "execution_count": 31,
      "outputs": [
        {
          "output_type": "execute_result",
          "data": {
            "text/html": [
              "<style  type=\"text/css\" >\n",
              "    #T_db1fc40e_c65d_11e9_874c_0242ac1c0002row0_col0 {\n",
              "            background-color:  #b40426;\n",
              "            color:  #f1f1f1;\n",
              "        }    #T_db1fc40e_c65d_11e9_874c_0242ac1c0002row0_col1 {\n",
              "            background-color:  #779af7;\n",
              "            color:  #000000;\n",
              "        }    #T_db1fc40e_c65d_11e9_874c_0242ac1c0002row0_col2 {\n",
              "            background-color:  #6788ee;\n",
              "            color:  #000000;\n",
              "        }    #T_db1fc40e_c65d_11e9_874c_0242ac1c0002row1_col0 {\n",
              "            background-color:  #4a63d3;\n",
              "            color:  #f1f1f1;\n",
              "        }    #T_db1fc40e_c65d_11e9_874c_0242ac1c0002row1_col1 {\n",
              "            background-color:  #b40426;\n",
              "            color:  #f1f1f1;\n",
              "        }    #T_db1fc40e_c65d_11e9_874c_0242ac1c0002row1_col2 {\n",
              "            background-color:  #3b4cc0;\n",
              "            color:  #f1f1f1;\n",
              "        }    #T_db1fc40e_c65d_11e9_874c_0242ac1c0002row2_col0 {\n",
              "            background-color:  #3b4cc0;\n",
              "            color:  #f1f1f1;\n",
              "        }    #T_db1fc40e_c65d_11e9_874c_0242ac1c0002row2_col1 {\n",
              "            background-color:  #3b4cc0;\n",
              "            color:  #f1f1f1;\n",
              "        }    #T_db1fc40e_c65d_11e9_874c_0242ac1c0002row2_col2 {\n",
              "            background-color:  #b40426;\n",
              "            color:  #f1f1f1;\n",
              "        }</style><table id=\"T_db1fc40e_c65d_11e9_874c_0242ac1c0002\" ><thead>    <tr>        <th class=\"blank level0\" ></th>        <th class=\"col_heading level0 col0\" >x1</th>        <th class=\"col_heading level0 col1\" >x2</th>        <th class=\"col_heading level0 col2\" >x3</th>    </tr></thead><tbody>\n",
              "                <tr>\n",
              "                        <th id=\"T_db1fc40e_c65d_11e9_874c_0242ac1c0002level0_row0\" class=\"row_heading level0 row0\" >x1</th>\n",
              "                        <td id=\"T_db1fc40e_c65d_11e9_874c_0242ac1c0002row0_col0\" class=\"data row0 col0\" >1</td>\n",
              "                        <td id=\"T_db1fc40e_c65d_11e9_874c_0242ac1c0002row0_col1\" class=\"data row0 col1\" >0.102503</td>\n",
              "                        <td id=\"T_db1fc40e_c65d_11e9_874c_0242ac1c0002row0_col2\" class=\"data row0 col2\" >0.0514447</td>\n",
              "            </tr>\n",
              "            <tr>\n",
              "                        <th id=\"T_db1fc40e_c65d_11e9_874c_0242ac1c0002level0_row1\" class=\"row_heading level0 row1\" >x2</th>\n",
              "                        <td id=\"T_db1fc40e_c65d_11e9_874c_0242ac1c0002row1_col0\" class=\"data row1 col0\" >0.102503</td>\n",
              "                        <td id=\"T_db1fc40e_c65d_11e9_874c_0242ac1c0002row1_col1\" class=\"data row1 col1\" >1</td>\n",
              "                        <td id=\"T_db1fc40e_c65d_11e9_874c_0242ac1c0002row1_col2\" class=\"data row1 col2\" >-0.106644</td>\n",
              "            </tr>\n",
              "            <tr>\n",
              "                        <th id=\"T_db1fc40e_c65d_11e9_874c_0242ac1c0002level0_row2\" class=\"row_heading level0 row2\" >x3</th>\n",
              "                        <td id=\"T_db1fc40e_c65d_11e9_874c_0242ac1c0002row2_col0\" class=\"data row2 col0\" >0.0514447</td>\n",
              "                        <td id=\"T_db1fc40e_c65d_11e9_874c_0242ac1c0002row2_col1\" class=\"data row2 col1\" >-0.106644</td>\n",
              "                        <td id=\"T_db1fc40e_c65d_11e9_874c_0242ac1c0002row2_col2\" class=\"data row2 col2\" >1</td>\n",
              "            </tr>\n",
              "    </tbody></table>"
            ],
            "text/plain": [
              "<pandas.io.formats.style.Styler at 0x7f0a17d4e080>"
            ]
          },
          "metadata": {
            "tags": []
          },
          "execution_count": 31
        }
      ]
    },
    {
      "cell_type": "markdown",
      "metadata": {
        "id": "T-BZeG0ZRZ3J",
        "colab_type": "text"
      },
      "source": [
        "Low values will have a blue color while higher values will become “hot” and thus the red. \n",
        "\n",
        "#If two variable have more corelation then both contain same information so one variable should not select"
      ]
    },
    {
      "cell_type": "markdown",
      "metadata": {
        "id": "Ljdt03-ZTCjk",
        "colab_type": "text"
      },
      "source": [
        "#Using Variance Inflation factor (VIF). But, What is VIF?\n",
        "\n",
        "VIF is a metric computed for every X variable that goes into a linear model. If the VIF of a variable is high, it means the information in that variable is already explained by other X variables present in the given model, which means, more redundant is that variable. So, lower the VIF (<2) the better. VIF for a X var is calculated as:\n",
        "\n",
        "\n",
        "VIF=1/(1−Rsq)\n",
        "\n",
        "\n",
        "where, Rsq is the Rsq term for the model with given X as response against all other Xs that went into the model as predictors.\n",
        "\n",
        "Practically, if two of the X′s have high correlation, they will likely have high VIFs. Generally, VIF for an X variable should be less than 4 in order to be accepted as not causing multi-collinearity. The cutoff is kept as low as 2, if you want to be strict about your X variables."
      ]
    },
    {
      "cell_type": "markdown",
      "metadata": {
        "id": "6k7ZN7nMTi7A",
        "colab_type": "text"
      },
      "source": [
        "Steps for Implementing VIF Run a multiple regression.\n",
        "\n",
        "1)Calculate the VIF factors.          \n",
        "\n",
        "2)Inspect the factors for each predictor variable, if the VIF is between 5-10, \n",
        "\n",
        "3)multicolinearity is likely present and you should consider dropping the variable."
      ]
    },
    {
      "cell_type": "code",
      "metadata": {
        "id": "2mX5My3KRXcE",
        "colab_type": "code",
        "colab": {
          "base_uri": "https://localhost:8080/",
          "height": 173
        },
        "outputId": "b9f63a6f-a1a2-4aa9-f043-9284f16df9c4"
      },
      "source": [
        "from statsmodels.stats.outliers_influence import variance_inflation_factor\n",
        "from statsmodels.tools.tools import add_constant\n",
        "\n",
        "df = pd.DataFrame(\n",
        "    {'a': [1, 1, 2, 3, 4],\n",
        "     'b': [2, 2, 3, 2, 1],\n",
        "     'c': [4, 6, 7, 8, 9],\n",
        "     'd': [4, 3, 4, 5, 4]}\n",
        ")\n",
        "\n",
        "X = add_constant(df)\n",
        "pd.Series([variance_inflation_factor(X.values, i) \n",
        "               for i in range(X.shape[1])], \n",
        "              index=X.columns)\n"
      ],
      "execution_count": 33,
      "outputs": [
        {
          "output_type": "stream",
          "text": [
            "/usr/local/lib/python3.6/dist-packages/numpy/core/fromnumeric.py:2389: FutureWarning: Method .ptp is deprecated and will be removed in a future version. Use numpy.ptp instead.\n",
            "  return ptp(axis=axis, out=out, **kwargs)\n"
          ],
          "name": "stderr"
        },
        {
          "output_type": "execute_result",
          "data": {
            "text/plain": [
              "const    136.875\n",
              "a         22.950\n",
              "b          3.000\n",
              "c         12.950\n",
              "d          3.000\n",
              "dtype: float64"
            ]
          },
          "metadata": {
            "tags": []
          },
          "execution_count": 33
        }
      ]
    },
    {
      "cell_type": "markdown",
      "metadata": {
        "id": "dsnsUk9AVvBf",
        "colab_type": "text"
      },
      "source": [
        "y, X = dmatrices(formula=\"medv ~ crim + zn + nox + ptratio + black + rm \", data=boston, return_type=\"dataframe\")\n",
        "medv= y_column, crim+zn+...= X.columns\n",
        "\n",
        "vif = pd.DataFrame()\n",
        "vif[\"VIF Factor\"] = [variance_inflation_factor(X.values, i) for i in range(X.shape[1])]\n",
        "vif[\"features\"] = X.columns\n",
        "\n",
        "vif.round(1)\n",
        "\n"
      ]
    },
    {
      "cell_type": "markdown",
      "metadata": {
        "id": "vBYGm8miWcvt",
        "colab_type": "text"
      },
      "source": [
        "#  (AutoCorrelation and Homoscedasticity) are applied to the residual values once you have completed the regression analysis"
      ]
    },
    {
      "cell_type": "markdown",
      "metadata": {
        "id": "k99iLNGdZKov",
        "colab_type": "text"
      },
      "source": [
        "# * Homoscedasticity of Error Terms\n",
        "\n",
        "Homescedasticity means the errors exhibit constant variance. This is a key assumption of linear regression\n",
        "\n",
        "#Heteroscedasticity,\n",
        "on the other hand, is what happens when errors show some sort of growth. The tell tale sign you have heteroscedasticity is a fan-like shape in your residual plot"
      ]
    },
    {
      "cell_type": "code",
      "metadata": {
        "id": "YkpJ_5F1UGfL",
        "colab_type": "code",
        "colab": {}
      },
      "source": [
        "#Generate Dummy Data\n",
        "np.random.seed(20)\n",
        "x = np.arange(20)\n",
        "\n",
        "y_homo = [x*2 + np.random.rand(1) for x in range(20)]  ## homoscedastic error\n",
        "y_hetero = [x*2 + np.random.rand(1)*2*x for x in range(20)]  ## heteroscedastic error"
      ],
      "execution_count": 0,
      "outputs": []
    },
    {
      "cell_type": "code",
      "metadata": {
        "id": "FPqJh8aDZcDc",
        "colab_type": "code",
        "colab": {}
      },
      "source": [
        "#Reshape x\n",
        "x_reshape = x.reshape(-1,1)"
      ],
      "execution_count": 0,
      "outputs": []
    },
    {
      "cell_type": "code",
      "metadata": {
        "id": "t3wvqVntZjsQ",
        "colab_type": "code",
        "colab": {
          "base_uri": "https://localhost:8080/",
          "height": 34
        },
        "outputId": "269cefcc-9028-4c47-fd7c-e7b97c5fe79c"
      },
      "source": [
        "#Fit Model\n",
        "linear_homo = LinearRegression()\n",
        "linear_homo.fit(x_reshape, y_homo)\n",
        "\n",
        "linear_hetero = LinearRegression()\n",
        "linear_hetero.fit(x_reshape, y_hetero)"
      ],
      "execution_count": 37,
      "outputs": [
        {
          "output_type": "execute_result",
          "data": {
            "text/plain": [
              "LinearRegression(copy_X=True, fit_intercept=True, n_jobs=None, normalize=False)"
            ]
          },
          "metadata": {
            "tags": []
          },
          "execution_count": 37
        }
      ]
    },
    {
      "cell_type": "code",
      "metadata": {
        "id": "HEin1ixeZ4j4",
        "colab_type": "code",
        "colab": {
          "base_uri": "https://localhost:8080/",
          "height": 295
        },
        "outputId": "9c1159e1-307c-431c-d5c8-d3e276f8c22b"
      },
      "source": [
        "plt.plot(x, y_hetero, 'bo', label='actual')\n",
        "plt.plot(x, linear_hetero.predict(x_reshape), 'k', label='w/heteroscedasticity')\n",
        "plt.title('Heteroscedasticity of Errors')\n",
        "plt.xlim(0,21)\n",
        "plt.xlabel('Feature Value')\n",
        "plt.ylabel('Target Value')\n",
        "plt.grid()\n",
        "plt.legend();"
      ],
      "execution_count": 44,
      "outputs": [
        {
          "output_type": "display_data",
          "data": {
            "image/png": "[encoded data removed]",
            "text/plain": [
              "<Figure size 432x288 with 1 Axes>"
            ]
          },
          "metadata": {
            "tags": []
          }
        }
      ]
    },
    {
      "cell_type": "code",
      "metadata": {
        "id": "bs3Y7yH5ZmfY",
        "colab_type": "code",
        "colab": {
          "base_uri": "https://localhost:8080/",
          "height": 281
        },
        "outputId": "df379a4a-46b1-4ce0-f7ce-663c0376da0e"
      },
      "source": [
        "import matplotlib.pyplot as plt\n",
        "\n",
        "plt.scatter(x_reshape, y_homo)\n",
        "plt.plot(x_reshape, y_homo, color='red')\n",
        "\n",
        "plt.title('HOMOscedastic')\n",
        "plt.show()"
      ],
      "execution_count": 46,
      "outputs": [
        {
          "output_type": "display_data",
          "data": {
            "image/png": "[encoded data removed]",
            "text/plain": [
              "<Figure size 432x288 with 1 Axes>"
            ]
          },
          "metadata": {
            "tags": []
          }
        }
      ]
    },
    {
      "cell_type": "code",
      "metadata": {
        "id": "h3QUKWGEafqE",
        "colab_type": "code",
        "colab": {
          "base_uri": "https://localhost:8080/",
          "height": 281
        },
        "outputId": "2026d5fd-d341-4c8a-87af-6ca537adcb6c"
      },
      "source": [
        "import matplotlib.pyplot as plt\n",
        "\n",
        "plt.scatter(x_reshape, y_hetero)\n",
        "plt.plot(x_reshape, y_hetero_p, color='red')\n",
        "\n",
        "plt.title('Hetroscedastic')\n",
        "plt.show()"
      ],
      "execution_count": 47,
      "outputs": [
        {
          "output_type": "display_data",
          "data": {
            "image/png": "[encoded data removed]",
            "text/plain": [
              "<Figure size 432x288 with 1 Axes>"
            ]
          },
          "metadata": {
            "tags": []
          }
        }
      ]
    },
    {
      "cell_type": "code",
      "metadata": {
        "id": "VYWM-WsdapjF",
        "colab_type": "code",
        "colab": {
          "base_uri": "https://localhost:8080/",
          "height": 370
        },
        "outputId": "dc3c81e8-76b6-43da-ac05-06cf90d7998a"
      },
      "source": [
        "fig, axes = plt.subplots(1, 2, sharex=False, sharey=True)\n",
        "fig.suptitle('[Residual Plots]')\n",
        "fig.set_size_inches(12,5)\n",
        "axes[0].plot(linear_homo.predict(x_reshape), y_homo-linear_homo.predict(x_reshape), 'bo')\n",
        "axes[0].axhline(y=0, color='k')\n",
        "axes[0].grid()\n",
        "axes[0].set_title('Homoscedastic')\n",
        "axes[0].set_xlabel('predicted values')\n",
        "axes[0].set_ylabel('residuals')\n",
        "axes[1].plot(linear_hetero.predict(x_reshape), y_hetero-linear_hetero.predict(x_reshape), 'ro')\n",
        "axes[1].axhline(y=0, color='k')\n",
        "axes[1].grid()\n",
        "axes[1].set_title('Heteroscedastic')\n",
        "axes[1].set_xlabel('predicted values');\n",
        "axes[1].plot([x*0.3 for x in range(60)], 'k--')\n",
        "axes[1].plot([-x*0.3 for x in range(60)], 'k--');"
      ],
      "execution_count": 48,
      "outputs": [
        {
          "output_type": "display_data",
          "data": {
            "image/png": "[encoded data removed]",
            "text/plain": [
              "<Figure size 864x360 with 2 Axes>"
            ]
          },
          "metadata": {
            "tags": []
          }
        }
      ]
    },
    {
      "cell_type": "markdown",
      "metadata": {
        "id": "2jnZwWyxdtVC",
        "colab_type": "text"
      },
      "source": [
        "# Normality Test\n"
      ]
    },
    {
      "cell_type": "code",
      "metadata": {
        "id": "KDFHfxa4dl3_",
        "colab_type": "code",
        "colab": {
          "base_uri": "https://localhost:8080/",
          "height": 34
        },
        "outputId": "bb48ece0-93ea-4a12-e57c-6d739e38220d"
      },
      "source": [
        "\n",
        "normaltest(y_homo-linear_homo.predict(x_reshape))"
      ],
      "execution_count": 49,
      "outputs": [
        {
          "output_type": "execute_result",
          "data": {
            "text/plain": [
              "NormaltestResult(statistic=array([1.71234546]), pvalue=array([0.42478474]))"
            ]
          },
          "metadata": {
            "tags": []
          },
          "execution_count": 49
        }
      ]
    },
    {
      "cell_type": "code",
      "metadata": {
        "id": "q3Na7wl-dxNZ",
        "colab_type": "code",
        "colab": {
          "base_uri": "https://localhost:8080/",
          "height": 34
        },
        "outputId": "94924399-7479-4b1f-c94a-c7d6ef41fc79"
      },
      "source": [
        "normaltest(y_hetero-linear_hetero.predict(x_reshape))"
      ],
      "execution_count": 50,
      "outputs": [
        {
          "output_type": "execute_result",
          "data": {
            "text/plain": [
              "NormaltestResult(statistic=array([1.04126656]), pvalue=array([0.59414417]))"
            ]
          },
          "metadata": {
            "tags": []
          },
          "execution_count": 50
        }
      ]
    },
    {
      "cell_type": "markdown",
      "metadata": {
        "id": "-MNaWs_pd1Hj",
        "colab_type": "text"
      },
      "source": [
        "#Takeaway\n",
        "Standard errors, confidence intervals, and hypothesis tests rely on the assumption that errors are homoscedastic. If this assumption is violated, you cannot trust values for the previous metrics!!!\n",
        "\n",
        "#Possible Solutions\n",
        "Consider log transforming the target values"
      ]
    },
    {
      "cell_type": "code",
      "metadata": {
        "id": "WsluVXq5dzAC",
        "colab_type": "code",
        "colab": {}
      },
      "source": [
        "\n",
        "y_hetero_log = np.log10(np.array(y_hetero) + 1e1)\n",
        "x_reshape_log = np.log10(np.array(x_reshape) + 1e1)\n",
        "\n",
        "# fit models\n",
        "linear_hetero_log = LinearRegression()\n",
        "linear_hetero_log.fit(x_reshape, y_hetero_log);\n",
        "\n",
        "linear_hetero_log_log = LinearRegression()\n",
        "linear_hetero_log_log.fit(x_reshape_log, y_hetero_log);"
      ],
      "execution_count": 0,
      "outputs": []
    },
    {
      "cell_type": "code",
      "metadata": {
        "id": "V3kQP6hTd6bF",
        "colab_type": "code",
        "colab": {
          "base_uri": "https://localhost:8080/",
          "height": 370
        },
        "outputId": "5ee55673-9c50-44a3-a45e-eb80b8b99f1a"
      },
      "source": [
        "\n",
        "fig, axes = plt.subplots(1, 2, sharex=False, sharey=True)\n",
        "fig.suptitle('[Residual Plots]')\n",
        "fig.set_size_inches(12,5)\n",
        "axes[0].plot(linear_homo.predict(x_reshape), y_homo-linear_homo.predict(x_reshape), 'bo')\n",
        "axes[0].axhline(y=0, color='k')\n",
        "axes[0].grid()\n",
        "axes[0].set_title('Homoscedastic')\n",
        "axes[0].set_xlabel('predicted values')\n",
        "axes[0].set_ylabel('residuals')\n",
        "axes[1].plot(linear_hetero.predict(x_reshape), y_hetero_log-linear_hetero_log.predict(x_reshape), 'ro')\n",
        "axes[1].axhline(y=0, color='k')\n",
        "axes[1].grid()\n",
        "axes[1].set_title('Heteroscedastic')\n",
        "axes[1].set_xlabel('predicted values');"
      ],
      "execution_count": 52,
      "outputs": [
        {
          "output_type": "display_data",
          "data": {
            "image/png": "[encoded data removed]",
            "text/plain": [
              "<Figure size 864x360 with 2 Axes>"
            ]
          },
          "metadata": {
            "tags": []
          }
        }
      ]
    },
    {
      "cell_type": "code",
      "metadata": {
        "id": "U7_SUeLSd82E",
        "colab_type": "code",
        "colab": {}
      },
      "source": [
        ""
      ],
      "execution_count": 0,
      "outputs": []
    }
  ]
}