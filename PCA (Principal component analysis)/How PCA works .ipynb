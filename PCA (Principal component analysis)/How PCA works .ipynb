{
 "cells": [
  {
   "cell_type": "markdown",
   "metadata": {},
   "source": [
    "# Principal Component Analysis (PCA) in Python"
   ]
  },
  {
   "cell_type": "markdown",
   "metadata": {},
   "source": [
    "Principal component analysis is a technique used to reduce the dimensionality of a data set. PCA is typically employed prior to implementing a machine learning algorithm because it minimizes the number of variables used to explain the maximum amount of variance for a given data set."
   ]
  },
  {
   "cell_type": "markdown",
   "metadata": {},
   "source": [
    "#PCA Introduction\n",
    "PCA uses \"orthogonal linear transformation\" to project the features of a data set onto a new coordinate system where the feature which explains the most variance is positioned at the first coordinate (thus becoming the first principal component). Source\n",
    "\n",
    "PCA allows us to quantify the trade-offs between the number of features we utilize and the total variance explained by the data. PCA allows us to determine which features capture similiar information and discard them to create a more parsimonious model.\n",
    "\n",
    "In order to perform PCA we need to do the following:"
   ]
  },
  {
   "cell_type": "markdown",
   "metadata": {},
   "source": [
    "1)Standardize the data. \n",
    "\n",
    "2)Use the standardized data to create a covariance matrix.\n",
    "\n",
    "3)Use the resulting matrix to calculate eigenvectors (principal components) and their corresponding eigenvalues. \n",
    "\n",
    "4)Sort the components in decending order by its eigenvalue. \n",
    "\n",
    "5)Choose n components which explain the most variance within the data (larger eigenvalue means the feature explains more variance). \n",
    "\n",
    "6)Create a new matrix using the n components. "
   ]
  },
  {
   "cell_type": "code",
   "execution_count": 5,
   "metadata": {},
   "outputs": [],
   "source": [
    "import pandas as pd\n",
    "import numpy as np\n",
    "import matplotlib.pyplot as plt\n",
    "from sklearn import decomposition\n",
    "from sklearn.preprocessing import scale \n",
    "\n",
    "from sklearn.decomposition import PCA\n",
    "import seaborn as sb\n",
    "%matplotlib inline"
   ]
  },
  {
   "cell_type": "code",
   "execution_count": 6,
   "metadata": {},
   "outputs": [],
   "source": [
    "sb.set(font_scale=1.2,style=\"whitegrid\") #set styling preferences"
   ]
  },
  {
   "cell_type": "code",
   "execution_count": 82,
   "metadata": {},
   "outputs": [],
   "source": [
    "df= pd.read_csv(r'E:\\ML\\PCA\\loan1.csv')\n",
    "# df.sample(frac = .25) read the dataset and sample 25% of it\n"
   ]
  },
  {
   "cell_type": "code",
   "execution_count": 83,
   "metadata": {},
   "outputs": [],
   "source": [
    "#Data Wrangling\n",
    "df.replace([np.inf, -np.inf], np.nan) #convert infs to nans\n",
    "\n",
    "df = df.dropna(axis=1, how='any') #remove nans\n",
    "df = df._get_numeric_data() #keep only numeric features\n"
   ]
  },
  {
   "cell_type": "markdown",
   "metadata": {},
   "source": [
    "# Step 1: Standardize the Dataset"
   ]
  },
  {
   "cell_type": "code",
   "execution_count": 84,
   "metadata": {},
   "outputs": [
    {
     "data": {
      "text/plain": [
       "array([[-1.31559006, -1.31559006, -1.31492255, ..., -0.69057247,\n",
       "         0.27077637, -0.62084408],\n",
       "       [ 1.32751203,  1.32751203,  1.32752178, ...,  0.73783113,\n",
       "        -0.50880439,  0.86941003],\n",
       "       [-1.07530805, -1.07530805, -1.07470033, ..., -0.77970173,\n",
       "        -0.55231588, -0.78025347],\n",
       "       ...,\n",
       "       [-0.62357788, -0.62357788, -0.62308258, ..., -0.3731187 ,\n",
       "        -0.9221635 , -0.21141076],\n",
       "       [-1.21947726, -1.21947726, -1.21883366, ..., -0.56964594,\n",
       "        -0.72998777, -0.50578048],\n",
       "       [-0.11418002, -0.11418002, -0.11381149, ..., -0.75914941,\n",
       "        -0.65384268, -0.50220927]])"
      ]
     },
     "execution_count": 84,
     "metadata": {},
     "output_type": "execute_result"
    }
   ],
   "source": [
    "x = df.values #convert the data into a numpy array\n",
    "x = scale(x);x\n"
   ]
  },
  {
   "cell_type": "markdown",
   "metadata": {},
   "source": [
    "# Step 2: Create a Covariance Matrix"
   ]
  },
  {
   "cell_type": "code",
   "execution_count": 85,
   "metadata": {},
   "outputs": [],
   "source": [
    "covar_matrix = PCA(n_components = 40) #we have 40 features"
   ]
  },
  {
   "cell_type": "markdown",
   "metadata": {},
   "source": [
    "# Step 3: Calculate Eigenvalues"
   ]
  },
  {
   "cell_type": "code",
   "execution_count": 86,
   "metadata": {},
   "outputs": [
    {
     "data": {
      "text/plain": [
       "array([19.5, 31.6, 39.5, 46.2, 52.1, 56.2, 60. , 63.2, 65.8, 68.2, 70.3,\n",
       "       72.2, 73.9, 75.6, 77.3, 79. , 80.6, 82.2, 83.7, 85.2, 86.7, 88. ,\n",
       "       89.3, 90.5, 91.6, 92.5, 93.3, 94.1, 94.8, 95.5, 96.2, 96.8, 97.4,\n",
       "       97.9, 98.3, 98.7, 99. , 99.3, 99.5, 99.7])"
      ]
     },
     "execution_count": 86,
     "metadata": {},
     "output_type": "execute_result"
    }
   ],
   "source": [
    "covar_matrix.fit(x)\n",
    "variance = covar_matrix.explained_variance_ratio_ #calculate variance ratios\n",
    "\n",
    "var=np.cumsum(np.round(covar_matrix.explained_variance_ratio_, decimals=3)*100)\n",
    "var #cumulative sum of variance explained with [n] features"
   ]
  },
  {
   "cell_type": "markdown",
   "metadata": {},
   "source": [
    "In the above array we see that the first feature explains roughly 19.5% of the variance within our data set while the first two explain 31.6 and so on. If we employ 24 features we capture 89.3% of the variance within the dataset, thus we gain very little by implementing an additional feature (think of this as diminishing marginal return on total variance explained)."
   ]
  },
  {
   "cell_type": "markdown",
   "metadata": {},
   "source": [
    "# Step 4, 5 & 6: Sort & Select"
   ]
  },
  {
   "cell_type": "code",
   "execution_count": 87,
   "metadata": {},
   "outputs": [
    {
     "data": {
      "text/plain": [
       "[<matplotlib.lines.Line2D at 0xe6a4470>]"
      ]
     },
     "execution_count": 87,
     "metadata": {},
     "output_type": "execute_result"
    },
    {
     "data": {
      "image/png": "[encoded data removed]",
      "text/plain": [
       "<Figure size 432x288 with 1 Axes>"
      ]
     },
     "metadata": {},
     "output_type": "display_data"
    }
   ],
   "source": [
    "plt.ylabel('% Variance Explained')\n",
    "plt.xlabel('# of Features')\n",
    "plt.title('PCA Analysis')\n",
    "plt.ylim(30,100.5)\n",
    "plt.style.context('seaborn-whitegrid')\n",
    "\n",
    "\n",
    "plt.plot(var)"
   ]
  },
  {
   "cell_type": "markdown",
   "metadata": {},
   "source": [
    "Based on the plot above always pick  % variance near to 100   with -- no of features"
   ]
  },
  {
   "cell_type": "markdown",
   "metadata": {},
   "source": [
    "# Here origional data set contain 120 f column so\n",
    "# If we employ 20 c features we capture 90% of the variance within the dataset\n",
    "\n",
    "# This is just example"
   ]
  },
  {
   "cell_type": "code",
   "execution_count": null,
   "metadata": {},
   "outputs": [],
   "source": []
  }
 ],
 "metadata": {
  "kernelspec": {
   "display_name": "Python 3",
   "language": "python",
   "name": "python3"
  },
  "language_info": {
   "codemirror_mode": {
    "name": "ipython",
    "version": 3
   },
   "file_extension": ".py",
   "mimetype": "text/x-python",
   "name": "python",
   "nbconvert_exporter": "python",
   "pygments_lexer": "ipython3",
   "version": "3.6.5"
  }
 },
 "nbformat": 4,
 "nbformat_minor": 2
}
