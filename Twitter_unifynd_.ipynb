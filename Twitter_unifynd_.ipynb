{
  "nbformat": 4,
  "nbformat_minor": 0,
  "metadata": {
    "colab": {
      "name": "Twitter unifynd .ipynb",
      "version": "0.3.2",
      "provenance": []
    },
    "kernelspec": {
      "name": "python3",
      "display_name": "Python 3"
    }
  },
  "cells": [
    {
      "cell_type": "code",
      "metadata": {
        "id": "lvvwFH_uOAAd",
        "colab_type": "code",
        "colab": {}
      },
      "source": [
        "import pandas as pd #import pandas\n",
        "import numpy as numpy #import numpy\n",
        "from sklearn.utils import shuffle # to shuffle the data \n",
        "import random # import random\n",
        "import sklearn # import sklearn\n",
        "import nltk # import nltk\n",
        "from nltk.corpus import stopwords #import stop words\n",
        "import re # import regular expression\n",
        "from nltk.tokenize import word_tokenize # import word_tokenize\n",
        "import matplotlib\n",
        "import matplotlib.pyplot as plt #import matplotlib.pyplot \n",
        "\n",
        "\n",
        "from sklearn.feature_extraction.text import TfidfVectorizer #  import TF-idf vectorizer\n",
        "\n",
        "#tweets1 = df.iloc[0:9999,]\n",
        "#tweets1.to_csv('tweets1.csv', sep=',')\n",
        "%matplotlib inline\n",
        "\n"
      ],
      "execution_count": 0,
      "outputs": []
    },
    {
      "cell_type": "code",
      "metadata": {
        "id": "G08F548SOVWN",
        "colab_type": "code",
        "outputId": "e94bb89e-49e6-4bcf-f5a0-c15cf3a6c67f",
        "colab": {
          "base_uri": "https://localhost:8080/",
          "height": 204
        }
      },
      "source": [
        "df=pd.read_csv('sentiment.tsv', sep='\\t',header=None)\n",
        "col=['Sentiment','Tweet']\n",
        "df.columns=['Sentiment','Tweet']\n",
        "df.head()"
      ],
      "execution_count": 0,
      "outputs": [
        {
          "output_type": "execute_result",
          "data": {
            "text/html": [
              "<div>\n",
              "<style scoped>\n",
              "    .dataframe tbody tr th:only-of-type {\n",
              "        vertical-align: middle;\n",
              "    }\n",
              "\n",
              "    .dataframe tbody tr th {\n",
              "        vertical-align: top;\n",
              "    }\n",
              "\n",
              "    .dataframe thead th {\n",
              "        text-align: right;\n",
              "    }\n",
              "</style>\n",
              "<table border=\"1\" class=\"dataframe\">\n",
              "  <thead>\n",
              "    <tr style=\"text-align: right;\">\n",
              "      <th></th>\n",
              "      <th>Sentiment</th>\n",
              "      <th>Tweet</th>\n",
              "    </tr>\n",
              "  </thead>\n",
              "  <tbody>\n",
              "    <tr>\n",
              "      <th>0</th>\n",
              "      <td>neg</td>\n",
              "      <td>@jamielewislewis i cant believe it, it really ...</td>\n",
              "    </tr>\n",
              "    <tr>\n",
              "      <th>1</th>\n",
              "      <td>pos</td>\n",
              "      <td>having a vodka tonic and looking forward to go...</td>\n",
              "    </tr>\n",
              "    <tr>\n",
              "      <th>2</th>\n",
              "      <td>pos</td>\n",
              "      <td>@ddlovatofans1neg1 Could you follow me please....</td>\n",
              "    </tr>\n",
              "    <tr>\n",
              "      <th>3</th>\n",
              "      <td>pos</td>\n",
              "      <td>@jordanknight for once.................. PLEAS...</td>\n",
              "    </tr>\n",
              "    <tr>\n",
              "      <th>4</th>\n",
              "      <td>neg</td>\n",
              "      <td>Had a dream about a walk in fast food resturau...</td>\n",
              "    </tr>\n",
              "  </tbody>\n",
              "</table>\n",
              "</div>"
            ],
            "text/plain": [
              "  Sentiment                                              Tweet\n",
              "0       neg  @jamielewislewis i cant believe it, it really ...\n",
              "1       pos  having a vodka tonic and looking forward to go...\n",
              "2       pos  @ddlovatofans1neg1 Could you follow me please....\n",
              "3       pos  @jordanknight for once.................. PLEAS...\n",
              "4       neg  Had a dream about a walk in fast food resturau..."
            ]
          },
          "metadata": {
            "tags": []
          },
          "execution_count": 3
        }
      ]
    },
    {
      "cell_type": "code",
      "metadata": {
        "id": "ZkFeYahbObJD",
        "colab_type": "code",
        "outputId": "0c0868bd-fc16-4235-f849-c46eecc50330",
        "colab": {
          "base_uri": "https://localhost:8080/",
          "height": 68
        }
      },
      "source": [
        "df.Sentiment.value_counts()"
      ],
      "execution_count": 0,
      "outputs": [
        {
          "output_type": "execute_result",
          "data": {
            "text/plain": [
              "pos    1016\n",
              "neg     985\n",
              "Name: Sentiment, dtype: int64"
            ]
          },
          "metadata": {
            "tags": []
          },
          "execution_count": 65
        }
      ]
    },
    {
      "cell_type": "code",
      "metadata": {
        "id": "Q-uTkc8JOmYH",
        "colab_type": "code",
        "outputId": "4d42c5ec-55cf-4d24-872a-e07a749255ae",
        "colab": {
          "base_uri": "https://localhost:8080/",
          "height": 204
        }
      },
      "source": [
        "df['pre_clean_len'] = [len(t) for t in df.Tweet]\n",
        "df.head()"
      ],
      "execution_count": 0,
      "outputs": [
        {
          "output_type": "execute_result",
          "data": {
            "text/html": [
              "<div>\n",
              "<style scoped>\n",
              "    .dataframe tbody tr th:only-of-type {\n",
              "        vertical-align: middle;\n",
              "    }\n",
              "\n",
              "    .dataframe tbody tr th {\n",
              "        vertical-align: top;\n",
              "    }\n",
              "\n",
              "    .dataframe thead th {\n",
              "        text-align: right;\n",
              "    }\n",
              "</style>\n",
              "<table border=\"1\" class=\"dataframe\">\n",
              "  <thead>\n",
              "    <tr style=\"text-align: right;\">\n",
              "      <th></th>\n",
              "      <th>Sentiment</th>\n",
              "      <th>Tweet</th>\n",
              "      <th>pre_clean_len</th>\n",
              "      <th>clean</th>\n",
              "    </tr>\n",
              "  </thead>\n",
              "  <tbody>\n",
              "    <tr>\n",
              "      <th>0</th>\n",
              "      <td>neg</td>\n",
              "      <td>@jamielewislewis i cant believe it, it really ...</td>\n",
              "      <td>138</td>\n",
              "      <td>cant believe it it really doesnt belong there ...</td>\n",
              "    </tr>\n",
              "    <tr>\n",
              "      <th>1</th>\n",
              "      <td>pos</td>\n",
              "      <td>having a vodka tonic and looking forward to go...</td>\n",
              "      <td>112</td>\n",
              "      <td>having vodka tonic and looking forward to goin...</td>\n",
              "    </tr>\n",
              "    <tr>\n",
              "      <th>2</th>\n",
              "      <td>pos</td>\n",
              "      <td>@ddlovatofans1neg1 Could you follow me please....</td>\n",
              "      <td>76</td>\n",
              "      <td>could you follow me please would really apprec...</td>\n",
              "    </tr>\n",
              "    <tr>\n",
              "      <th>3</th>\n",
              "      <td>pos</td>\n",
              "      <td>@jordanknight for once.................. PLEAS...</td>\n",
              "      <td>94</td>\n",
              "      <td>for once please tell us why were thinking of t...</td>\n",
              "    </tr>\n",
              "    <tr>\n",
              "      <th>4</th>\n",
              "      <td>neg</td>\n",
              "      <td>Had a dream about a walk in fast food resturau...</td>\n",
              "      <td>118</td>\n",
              "      <td>had dream about walk in fast food resturaunt t...</td>\n",
              "    </tr>\n",
              "  </tbody>\n",
              "</table>\n",
              "</div>"
            ],
            "text/plain": [
              "  Sentiment  ...                                              clean\n",
              "0       neg  ...  cant believe it it really doesnt belong there ...\n",
              "1       pos  ...  having vodka tonic and looking forward to goin...\n",
              "2       pos  ...  could you follow me please would really apprec...\n",
              "3       pos  ...  for once please tell us why were thinking of t...\n",
              "4       neg  ...  had dream about walk in fast food resturaunt t...\n",
              "\n",
              "[5 rows x 4 columns]"
            ]
          },
          "metadata": {
            "tags": []
          },
          "execution_count": 66
        }
      ]
    },
    {
      "cell_type": "code",
      "metadata": {
        "id": "NBcQvrsyOyES",
        "colab_type": "code",
        "outputId": "0c700d11-37f8-4c95-d1a7-8d288c3d39bd",
        "colab": {
          "base_uri": "https://localhost:8080/",
          "height": 359
        }
      },
      "source": [
        "df[df.pre_clean_len > 140].head(10)    ## check for any tweets greater than 140 characters"
      ],
      "execution_count": 0,
      "outputs": [
        {
          "output_type": "execute_result",
          "data": {
            "text/html": [
              "<div>\n",
              "<style scoped>\n",
              "    .dataframe tbody tr th:only-of-type {\n",
              "        vertical-align: middle;\n",
              "    }\n",
              "\n",
              "    .dataframe tbody tr th {\n",
              "        vertical-align: top;\n",
              "    }\n",
              "\n",
              "    .dataframe thead th {\n",
              "        text-align: right;\n",
              "    }\n",
              "</style>\n",
              "<table border=\"1\" class=\"dataframe\">\n",
              "  <thead>\n",
              "    <tr style=\"text-align: right;\">\n",
              "      <th></th>\n",
              "      <th>Sentiment</th>\n",
              "      <th>Tweet</th>\n",
              "      <th>pre_clean_len</th>\n",
              "      <th>clean</th>\n",
              "    </tr>\n",
              "  </thead>\n",
              "  <tbody>\n",
              "    <tr>\n",
              "      <th>110</th>\n",
              "      <td>pos</td>\n",
              "      <td>On train with at least two gaggles of teenager...</td>\n",
              "      <td>142</td>\n",
              "      <td>on train with at least two gaggles of teenager...</td>\n",
              "    </tr>\n",
              "    <tr>\n",
              "      <th>163</th>\n",
              "      <td>pos</td>\n",
              "      <td>@mariahglare: you are a wonderful combination ...</td>\n",
              "      <td>142</td>\n",
              "      <td>you are wonderful combination of hilarious cre...</td>\n",
              "    </tr>\n",
              "    <tr>\n",
              "      <th>210</th>\n",
              "      <td>neg</td>\n",
              "      <td>No Ask Erin Live today Tweeps... I'm sick and ...</td>\n",
              "      <td>148</td>\n",
              "      <td>no ask erin live today tweeps sick and doing q...</td>\n",
              "    </tr>\n",
              "    <tr>\n",
              "      <th>227</th>\n",
              "      <td>pos</td>\n",
              "      <td>Rewritten #TI Dlog Module from #ASM to #C and ...</td>\n",
              "      <td>147</td>\n",
              "      <td>rewritten ti dlog module from asm to and imple...</td>\n",
              "    </tr>\n",
              "    <tr>\n",
              "      <th>255</th>\n",
              "      <td>neg</td>\n",
              "      <td>Must quit working pos 2night. Need rest. Going...</td>\n",
              "      <td>148</td>\n",
              "      <td>must quit working pos night need rest going wa...</td>\n",
              "    </tr>\n",
              "    <tr>\n",
              "      <th>256</th>\n",
              "      <td>neg</td>\n",
              "      <td>Chips &amp;amp; guac at Club de Capitanes. Wasting...</td>\n",
              "      <td>151</td>\n",
              "      <td>chips guac at club de capitanes wasting time b...</td>\n",
              "    </tr>\n",
              "    <tr>\n",
              "      <th>298</th>\n",
              "      <td>neg</td>\n",
              "      <td>@jessomine Sorry!   These are PDFs, folks - ap...</td>\n",
              "      <td>144</td>\n",
              "      <td>sorry these are pdfs folks apologies for not s...</td>\n",
              "    </tr>\n",
              "    <tr>\n",
              "      <th>498</th>\n",
              "      <td>pos</td>\n",
              "      <td>&amp;quot;Why can't you see.. You belong with me.....</td>\n",
              "      <td>144</td>\n",
              "      <td>why can not you see you belong with me taylor ...</td>\n",
              "    </tr>\n",
              "    <tr>\n",
              "      <th>505</th>\n",
              "      <td>neg</td>\n",
              "      <td>On to Xbox Live upgrades. Last FM integration....</td>\n",
              "      <td>151</td>\n",
              "      <td>on to xbox live upgrades last fm integration g...</td>\n",
              "    </tr>\n",
              "    <tr>\n",
              "      <th>543</th>\n",
              "      <td>neg</td>\n",
              "      <td>IVE HAD THE MOST HORRIBLE DAY. i dont try to b...</td>\n",
              "      <td>141</td>\n",
              "      <td>ive had the most horrible day dont try to be n...</td>\n",
              "    </tr>\n",
              "  </tbody>\n",
              "</table>\n",
              "</div>"
            ],
            "text/plain": [
              "    Sentiment  ...                                              clean\n",
              "110       pos  ...  on train with at least two gaggles of teenager...\n",
              "163       pos  ...  you are wonderful combination of hilarious cre...\n",
              "210       neg  ...  no ask erin live today tweeps sick and doing q...\n",
              "227       pos  ...  rewritten ti dlog module from asm to and imple...\n",
              "255       neg  ...  must quit working pos night need rest going wa...\n",
              "256       neg  ...  chips guac at club de capitanes wasting time b...\n",
              "298       neg  ...  sorry these are pdfs folks apologies for not s...\n",
              "498       pos  ...  why can not you see you belong with me taylor ...\n",
              "505       neg  ...  on to xbox live upgrades last fm integration g...\n",
              "543       neg  ...  ive had the most horrible day dont try to be n...\n",
              "\n",
              "[10 rows x 4 columns]"
            ]
          },
          "metadata": {
            "tags": []
          },
          "execution_count": 67
        }
      ]
    },
    {
      "cell_type": "code",
      "metadata": {
        "id": "s-BUHQztO5Wc",
        "colab_type": "code",
        "colab": {}
      },
      "source": [
        "import re\n",
        "from bs4 import BeautifulSoup\n",
        "from nltk.tokenize import WordPunctTokenizer\n",
        "tok = WordPunctTokenizer()\n",
        "\n",
        "pat1 = r'@[A-Za-z0-9_]+'        # remove @ mentions fron tweets\n",
        "pat2 = r'https?://[^ ]+'        # remove URL's from tweets\n",
        "combined_pat = r'|'.join((pat1, pat2)) #addition of pat1 and pat2\n",
        "www_pat = r'www.[^ ]+'         # remove URL's from tweets\n",
        "negations_dic = {\"isnt\":\"is not\", \"arent\":\"are not\", \"wasnt\":\"was not\", \"werent\":\"were not\",   # converting words like isn't to is not\n",
        "                \"havent\":\"have not\",\"hasnt\":\"has not\",\"hadnt\":\"had not\",\"wont\":\"will not\",\n",
        "                \"wouldnt\":\"would not\", \"dont\":\"do not\", \"doesnt\":\"does not\",\"didnt\":\"did not\",\n",
        "                \"cant\":\"can not\",\"couldnt\":\"could not\",\"shouldnt\":\"should not\",\"mightnt\":\"might not\",\n",
        "                \"mustnt\":\"must not\"}\n",
        "neg_pattern = re.compile(r'\\b(' + '|'.join(negations_dic.keys()) + r')\\b')\n",
        "\n",
        "def tweet_cleaner(text):  # define tweet_cleaner function to clean the tweets\n",
        "    soup = BeautifulSoup(text, 'lxml')    # call beautiful object\n",
        "    souped = soup.get_text()   # get only text from the tweets \n",
        "    try:\n",
        "        bom_removed = souped.decode(\"utf-8-sig\").replace(u\"\\ufffd\", \"?\")    # remove utf-8-sig codeing\n",
        "    except:\n",
        "        bom_removed = souped\n",
        "    stripped = re.sub(combined_pat, '', bom_removed) # calling combined_pat\n",
        "    stripped = re.sub(www_pat, '', stripped) #remove URL's\n",
        "    lower_case = stripped.lower()      # converting all into lower case\n",
        "    neg_handled = neg_pattern.sub(lambda x: negations_dic[x.group()], lower_case) # converting word's like isn't to is not\n",
        "    letters_only = re.sub(\"[^a-zA-Z]\", \" \", neg_handled)       # will replace # by space\n",
        "    words = [x for x  in tok.tokenize(letters_only) if len(x) > 1] # Word Punct Tokenize and only consider words whose length is greater than 1\n",
        "    return (\" \".join(words)).strip() # join the words"
      ],
      "execution_count": 0,
      "outputs": []
    },
    {
      "cell_type": "code",
      "metadata": {
        "id": "dslrOrTmPP0F",
        "colab_type": "code",
        "colab": {}
      },
      "source": [
        "df['clean']=df['Tweet'].apply(tweet_cleaner)"
      ],
      "execution_count": 0,
      "outputs": []
    },
    {
      "cell_type": "code",
      "metadata": {
        "id": "c7OOjaryPleI",
        "colab_type": "code",
        "outputId": "e7b7a4e9-659c-49ee-980f-d4f2d4915b5c",
        "colab": {
          "base_uri": "https://localhost:8080/",
          "height": 204
        }
      },
      "source": [
        "df.head()"
      ],
      "execution_count": 0,
      "outputs": [
        {
          "output_type": "execute_result",
          "data": {
            "text/html": [
              "<div>\n",
              "<style scoped>\n",
              "    .dataframe tbody tr th:only-of-type {\n",
              "        vertical-align: middle;\n",
              "    }\n",
              "\n",
              "    .dataframe tbody tr th {\n",
              "        vertical-align: top;\n",
              "    }\n",
              "\n",
              "    .dataframe thead th {\n",
              "        text-align: right;\n",
              "    }\n",
              "</style>\n",
              "<table border=\"1\" class=\"dataframe\">\n",
              "  <thead>\n",
              "    <tr style=\"text-align: right;\">\n",
              "      <th></th>\n",
              "      <th>Sentiment</th>\n",
              "      <th>Tweet</th>\n",
              "      <th>pre_clean_len</th>\n",
              "      <th>clean</th>\n",
              "    </tr>\n",
              "  </thead>\n",
              "  <tbody>\n",
              "    <tr>\n",
              "      <th>0</th>\n",
              "      <td>neg</td>\n",
              "      <td>@jamielewislewis i cant believe it, it really ...</td>\n",
              "      <td>138</td>\n",
              "      <td>can not believe it it really does not belong t...</td>\n",
              "    </tr>\n",
              "    <tr>\n",
              "      <th>1</th>\n",
              "      <td>pos</td>\n",
              "      <td>having a vodka tonic and looking forward to go...</td>\n",
              "      <td>112</td>\n",
              "      <td>having vodka tonic and looking forward to goin...</td>\n",
              "    </tr>\n",
              "    <tr>\n",
              "      <th>2</th>\n",
              "      <td>pos</td>\n",
              "      <td>@ddlovatofans1neg1 Could you follow me please....</td>\n",
              "      <td>76</td>\n",
              "      <td>could you follow me please would really apprec...</td>\n",
              "    </tr>\n",
              "    <tr>\n",
              "      <th>3</th>\n",
              "      <td>pos</td>\n",
              "      <td>@jordanknight for once.................. PLEAS...</td>\n",
              "      <td>94</td>\n",
              "      <td>for once please tell us why were thinking of t...</td>\n",
              "    </tr>\n",
              "    <tr>\n",
              "      <th>4</th>\n",
              "      <td>neg</td>\n",
              "      <td>Had a dream about a walk in fast food resturau...</td>\n",
              "      <td>118</td>\n",
              "      <td>had dream about walk in fast food resturaunt t...</td>\n",
              "    </tr>\n",
              "  </tbody>\n",
              "</table>\n",
              "</div>"
            ],
            "text/plain": [
              "  Sentiment  ...                                              clean\n",
              "0       neg  ...  can not believe it it really does not belong t...\n",
              "1       pos  ...  having vodka tonic and looking forward to goin...\n",
              "2       pos  ...  could you follow me please would really apprec...\n",
              "3       pos  ...  for once please tell us why were thinking of t...\n",
              "4       neg  ...  had dream about walk in fast food resturaunt t...\n",
              "\n",
              "[5 rows x 4 columns]"
            ]
          },
          "metadata": {
            "tags": []
          },
          "execution_count": 134
        }
      ]
    },
    {
      "cell_type": "code",
      "metadata": {
        "id": "d1O-kB0TPng-",
        "colab_type": "code",
        "outputId": "50f03f65-56bb-4521-fe34-1d2d155d2d97",
        "colab": {
          "base_uri": "https://localhost:8080/",
          "height": 204
        }
      },
      "source": [
        "df['clean'] = df['clean'].apply(lambda x: x.split())\n",
        "df.head()"
      ],
      "execution_count": 0,
      "outputs": [
        {
          "output_type": "execute_result",
          "data": {
            "text/html": [
              "<div>\n",
              "<style scoped>\n",
              "    .dataframe tbody tr th:only-of-type {\n",
              "        vertical-align: middle;\n",
              "    }\n",
              "\n",
              "    .dataframe tbody tr th {\n",
              "        vertical-align: top;\n",
              "    }\n",
              "\n",
              "    .dataframe thead th {\n",
              "        text-align: right;\n",
              "    }\n",
              "</style>\n",
              "<table border=\"1\" class=\"dataframe\">\n",
              "  <thead>\n",
              "    <tr style=\"text-align: right;\">\n",
              "      <th></th>\n",
              "      <th>Sentiment</th>\n",
              "      <th>Tweet</th>\n",
              "      <th>pre_clean_len</th>\n",
              "      <th>clean</th>\n",
              "    </tr>\n",
              "  </thead>\n",
              "  <tbody>\n",
              "    <tr>\n",
              "      <th>0</th>\n",
              "      <td>neg</td>\n",
              "      <td>@jamielewislewis i cant believe it, it really ...</td>\n",
              "      <td>138</td>\n",
              "      <td>[can, not, believe, it, it, really, does, not,...</td>\n",
              "    </tr>\n",
              "    <tr>\n",
              "      <th>1</th>\n",
              "      <td>pos</td>\n",
              "      <td>having a vodka tonic and looking forward to go...</td>\n",
              "      <td>112</td>\n",
              "      <td>[having, vodka, tonic, and, looking, forward, ...</td>\n",
              "    </tr>\n",
              "    <tr>\n",
              "      <th>2</th>\n",
              "      <td>pos</td>\n",
              "      <td>@ddlovatofans1neg1 Could you follow me please....</td>\n",
              "      <td>76</td>\n",
              "      <td>[could, you, follow, me, please, would, really...</td>\n",
              "    </tr>\n",
              "    <tr>\n",
              "      <th>3</th>\n",
              "      <td>pos</td>\n",
              "      <td>@jordanknight for once.................. PLEAS...</td>\n",
              "      <td>94</td>\n",
              "      <td>[for, once, please, tell, us, why, were, think...</td>\n",
              "    </tr>\n",
              "    <tr>\n",
              "      <th>4</th>\n",
              "      <td>neg</td>\n",
              "      <td>Had a dream about a walk in fast food resturau...</td>\n",
              "      <td>118</td>\n",
              "      <td>[had, dream, about, walk, in, fast, food, rest...</td>\n",
              "    </tr>\n",
              "  </tbody>\n",
              "</table>\n",
              "</div>"
            ],
            "text/plain": [
              "  Sentiment  ...                                              clean\n",
              "0       neg  ...  [can, not, believe, it, it, really, does, not,...\n",
              "1       pos  ...  [having, vodka, tonic, and, looking, forward, ...\n",
              "2       pos  ...  [could, you, follow, me, please, would, really...\n",
              "3       pos  ...  [for, once, please, tell, us, why, were, think...\n",
              "4       neg  ...  [had, dream, about, walk, in, fast, food, rest...\n",
              "\n",
              "[5 rows x 4 columns]"
            ]
          },
          "metadata": {
            "tags": []
          },
          "execution_count": 135
        }
      ]
    },
    {
      "cell_type": "code",
      "metadata": {
        "id": "hA5B-gpmQUbK",
        "colab_type": "code",
        "outputId": "c51d9661-e5d0-4580-9c16-2b67f530d57c",
        "colab": {
          "base_uri": "https://localhost:8080/",
          "height": 238
        }
      },
      "source": [
        "'''\n",
        "from nltk.stem import PorterStemmer\n",
        "stemmer = PorterStemmer()\n",
        "\n",
        "\n",
        "df['clean'] = df['clean'].apply(lambda x: [stemmer.stem(i) for i in x])\n",
        "df.head()\n",
        "\n",
        "'''\n",
        "\n",
        "import nltk\n",
        "nltk.download('stopwords')\n",
        "\n",
        "from nltk.corpus import stopwords              # remove stops words\n",
        "stop = stopwords.words(\"english\")\n",
        "\n",
        "df['clean']=df['clean'].apply(lambda x: [item for item in x if item not in stop])\n",
        "\n",
        "df[:5]"
      ],
      "execution_count": 0,
      "outputs": [
        {
          "output_type": "stream",
          "text": [
            "[nltk_data] Downloading package stopwords to /root/nltk_data...\n",
            "[nltk_data]   Package stopwords is already up-to-date!\n"
          ],
          "name": "stdout"
        },
        {
          "output_type": "execute_result",
          "data": {
            "text/html": [
              "<div>\n",
              "<style scoped>\n",
              "    .dataframe tbody tr th:only-of-type {\n",
              "        vertical-align: middle;\n",
              "    }\n",
              "\n",
              "    .dataframe tbody tr th {\n",
              "        vertical-align: top;\n",
              "    }\n",
              "\n",
              "    .dataframe thead th {\n",
              "        text-align: right;\n",
              "    }\n",
              "</style>\n",
              "<table border=\"1\" class=\"dataframe\">\n",
              "  <thead>\n",
              "    <tr style=\"text-align: right;\">\n",
              "      <th></th>\n",
              "      <th>Sentiment</th>\n",
              "      <th>Tweet</th>\n",
              "      <th>pre_clean_len</th>\n",
              "      <th>clean</th>\n",
              "    </tr>\n",
              "  </thead>\n",
              "  <tbody>\n",
              "    <tr>\n",
              "      <th>0</th>\n",
              "      <td>neg</td>\n",
              "      <td>@jamielewislewis i cant believe it, it really ...</td>\n",
              "      <td>138</td>\n",
              "      <td>[believe, really, belong, hope, ruin, im, bad,...</td>\n",
              "    </tr>\n",
              "    <tr>\n",
              "      <th>1</th>\n",
              "      <td>pos</td>\n",
              "      <td>having a vodka tonic and looking forward to go...</td>\n",
              "      <td>112</td>\n",
              "      <td>[vodka, tonic, looking, forward, going, saddle...</td>\n",
              "    </tr>\n",
              "    <tr>\n",
              "      <th>2</th>\n",
              "      <td>pos</td>\n",
              "      <td>@ddlovatofans1neg1 Could you follow me please....</td>\n",
              "      <td>76</td>\n",
              "      <td>[could, follow, please, would, really, appreci...</td>\n",
              "    </tr>\n",
              "    <tr>\n",
              "      <th>3</th>\n",
              "      <td>pos</td>\n",
              "      <td>@jordanknight for once.................. PLEAS...</td>\n",
              "      <td>94</td>\n",
              "      <td>[please, tell, us, thinking, person]</td>\n",
              "    </tr>\n",
              "    <tr>\n",
              "      <th>4</th>\n",
              "      <td>neg</td>\n",
              "      <td>Had a dream about a walk in fast food resturau...</td>\n",
              "      <td>118</td>\n",
              "      <td>[dream, walk, fast, food, resturaunt, sold, ic...</td>\n",
              "    </tr>\n",
              "  </tbody>\n",
              "</table>\n",
              "</div>"
            ],
            "text/plain": [
              "  Sentiment  ...                                              clean\n",
              "0       neg  ...  [believe, really, belong, hope, ruin, im, bad,...\n",
              "1       pos  ...  [vodka, tonic, looking, forward, going, saddle...\n",
              "2       pos  ...  [could, follow, please, would, really, appreci...\n",
              "3       pos  ...               [please, tell, us, thinking, person]\n",
              "4       neg  ...  [dream, walk, fast, food, resturaunt, sold, ic...\n",
              "\n",
              "[5 rows x 4 columns]"
            ]
          },
          "metadata": {
            "tags": []
          },
          "execution_count": 136
        }
      ]
    },
    {
      "cell_type": "code",
      "metadata": {
        "id": "HA440_KEQdAJ",
        "colab_type": "code",
        "outputId": "946bce97-9f0c-4319-cb97-4b67905091f2",
        "colab": {
          "base_uri": "https://localhost:8080/",
          "height": 204
        }
      },
      "source": [
        "from nltk.stem import WordNetLemmatizer      # perform lemmatization\n",
        "  \n",
        "lemmatizer = WordNetLemmatizer() \n",
        "\n",
        "def lamm(row):\n",
        "  my_list=row['clean']\n",
        "  lamm=[lemmatizer.lemmatize(word)  for word in my_list]\n",
        "  return  lamm\n",
        "  \n",
        "df['clean'] = df. apply (lamm, axis=1) \n",
        "   \n",
        "df.head()"
      ],
      "execution_count": 0,
      "outputs": [
        {
          "output_type": "execute_result",
          "data": {
            "text/html": [
              "<div>\n",
              "<style scoped>\n",
              "    .dataframe tbody tr th:only-of-type {\n",
              "        vertical-align: middle;\n",
              "    }\n",
              "\n",
              "    .dataframe tbody tr th {\n",
              "        vertical-align: top;\n",
              "    }\n",
              "\n",
              "    .dataframe thead th {\n",
              "        text-align: right;\n",
              "    }\n",
              "</style>\n",
              "<table border=\"1\" class=\"dataframe\">\n",
              "  <thead>\n",
              "    <tr style=\"text-align: right;\">\n",
              "      <th></th>\n",
              "      <th>Sentiment</th>\n",
              "      <th>Tweet</th>\n",
              "      <th>pre_clean_len</th>\n",
              "      <th>clean</th>\n",
              "    </tr>\n",
              "  </thead>\n",
              "  <tbody>\n",
              "    <tr>\n",
              "      <th>0</th>\n",
              "      <td>neg</td>\n",
              "      <td>@jamielewislewis i cant believe it, it really ...</td>\n",
              "      <td>138</td>\n",
              "      <td>[believe, really, belong, hope, ruin, im, bad,...</td>\n",
              "    </tr>\n",
              "    <tr>\n",
              "      <th>1</th>\n",
              "      <td>pos</td>\n",
              "      <td>having a vodka tonic and looking forward to go...</td>\n",
              "      <td>112</td>\n",
              "      <td>[vodka, tonic, looking, forward, going, saddle...</td>\n",
              "    </tr>\n",
              "    <tr>\n",
              "      <th>2</th>\n",
              "      <td>pos</td>\n",
              "      <td>@ddlovatofans1neg1 Could you follow me please....</td>\n",
              "      <td>76</td>\n",
              "      <td>[could, follow, please, would, really, appreci...</td>\n",
              "    </tr>\n",
              "    <tr>\n",
              "      <th>3</th>\n",
              "      <td>pos</td>\n",
              "      <td>@jordanknight for once.................. PLEAS...</td>\n",
              "      <td>94</td>\n",
              "      <td>[please, tell, u, thinking, person]</td>\n",
              "    </tr>\n",
              "    <tr>\n",
              "      <th>4</th>\n",
              "      <td>neg</td>\n",
              "      <td>Had a dream about a walk in fast food resturau...</td>\n",
              "      <td>118</td>\n",
              "      <td>[dream, walk, fast, food, resturaunt, sold, ic...</td>\n",
              "    </tr>\n",
              "  </tbody>\n",
              "</table>\n",
              "</div>"
            ],
            "text/plain": [
              "  Sentiment  ...                                              clean\n",
              "0       neg  ...  [believe, really, belong, hope, ruin, im, bad,...\n",
              "1       pos  ...  [vodka, tonic, looking, forward, going, saddle...\n",
              "2       pos  ...  [could, follow, please, would, really, appreci...\n",
              "3       pos  ...                [please, tell, u, thinking, person]\n",
              "4       neg  ...  [dream, walk, fast, food, resturaunt, sold, ic...\n",
              "\n",
              "[5 rows x 4 columns]"
            ]
          },
          "metadata": {
            "tags": []
          },
          "execution_count": 138
        }
      ]
    },
    {
      "cell_type": "code",
      "metadata": {
        "id": "o5l2YHl7orz-",
        "colab_type": "code",
        "outputId": "d4510c1e-60a7-4bda-d5b7-dbce1fab7654",
        "colab": {
          "base_uri": "https://localhost:8080/",
          "height": 204
        }
      },
      "source": [
        "\n",
        "# import these modules \n",
        "from nltk.stem import PorterStemmer\n",
        "ps = PorterStemmer()\n",
        "\n",
        "def st(row):\n",
        "  my_list=row['clean']\n",
        "  lamm=[ps.stem(word)  for word in my_list]\n",
        "  return  lamm\n",
        "\n",
        "df['clean']=df. apply (st, axis=1)\n",
        "df[:5]\n",
        "  "
      ],
      "execution_count": 0,
      "outputs": [
        {
          "output_type": "execute_result",
          "data": {
            "text/html": [
              "<div>\n",
              "<style scoped>\n",
              "    .dataframe tbody tr th:only-of-type {\n",
              "        vertical-align: middle;\n",
              "    }\n",
              "\n",
              "    .dataframe tbody tr th {\n",
              "        vertical-align: top;\n",
              "    }\n",
              "\n",
              "    .dataframe thead th {\n",
              "        text-align: right;\n",
              "    }\n",
              "</style>\n",
              "<table border=\"1\" class=\"dataframe\">\n",
              "  <thead>\n",
              "    <tr style=\"text-align: right;\">\n",
              "      <th></th>\n",
              "      <th>Sentiment</th>\n",
              "      <th>Tweet</th>\n",
              "      <th>pre_clean_len</th>\n",
              "      <th>clean</th>\n",
              "    </tr>\n",
              "  </thead>\n",
              "  <tbody>\n",
              "    <tr>\n",
              "      <th>0</th>\n",
              "      <td>neg</td>\n",
              "      <td>@jamielewislewis i cant believe it, it really ...</td>\n",
              "      <td>138</td>\n",
              "      <td>[believ, realli, belong, hope, ruin, im, bad, ...</td>\n",
              "    </tr>\n",
              "    <tr>\n",
              "      <th>1</th>\n",
              "      <td>pos</td>\n",
              "      <td>having a vodka tonic and looking forward to go...</td>\n",
              "      <td>112</td>\n",
              "      <td>[vodka, tonic, look, forward, go, saddl, ranch...</td>\n",
              "    </tr>\n",
              "    <tr>\n",
              "      <th>2</th>\n",
              "      <td>pos</td>\n",
              "      <td>@ddlovatofans1neg1 Could you follow me please....</td>\n",
              "      <td>76</td>\n",
              "      <td>[could, follow, pleas, would, realli, appreci]</td>\n",
              "    </tr>\n",
              "    <tr>\n",
              "      <th>3</th>\n",
              "      <td>pos</td>\n",
              "      <td>@jordanknight for once.................. PLEAS...</td>\n",
              "      <td>94</td>\n",
              "      <td>[pleas, tell, u, think, person]</td>\n",
              "    </tr>\n",
              "    <tr>\n",
              "      <th>4</th>\n",
              "      <td>neg</td>\n",
              "      <td>Had a dream about a walk in fast food resturau...</td>\n",
              "      <td>118</td>\n",
              "      <td>[dream, walk, fast, food, resturaunt, sold, ic...</td>\n",
              "    </tr>\n",
              "  </tbody>\n",
              "</table>\n",
              "</div>"
            ],
            "text/plain": [
              "  Sentiment  ...                                              clean\n",
              "0       neg  ...  [believ, realli, belong, hope, ruin, im, bad, ...\n",
              "1       pos  ...  [vodka, tonic, look, forward, go, saddl, ranch...\n",
              "2       pos  ...     [could, follow, pleas, would, realli, appreci]\n",
              "3       pos  ...                    [pleas, tell, u, think, person]\n",
              "4       neg  ...  [dream, walk, fast, food, resturaunt, sold, ic...\n",
              "\n",
              "[5 rows x 4 columns]"
            ]
          },
          "metadata": {
            "tags": []
          },
          "execution_count": 140
        }
      ]
    },
    {
      "cell_type": "code",
      "metadata": {
        "id": "w0UPkqNfmQi1",
        "colab_type": "code",
        "outputId": "c7cb6c82-2aa1-4f2a-d551-e0b6f0c29f05",
        "colab": {
          "base_uri": "https://localhost:8080/",
          "height": 204
        }
      },
      "source": [
        "def rejoin_words(row):\n",
        "    my_list = row['clean']\n",
        "    joined_words = ( \" \".join(my_list))\n",
        "    return joined_words\n",
        "\n",
        "df['clean'] = df.apply(rejoin_words, axis=1)\n",
        "df[:5]"
      ],
      "execution_count": 0,
      "outputs": [
        {
          "output_type": "execute_result",
          "data": {
            "text/html": [
              "<div>\n",
              "<style scoped>\n",
              "    .dataframe tbody tr th:only-of-type {\n",
              "        vertical-align: middle;\n",
              "    }\n",
              "\n",
              "    .dataframe tbody tr th {\n",
              "        vertical-align: top;\n",
              "    }\n",
              "\n",
              "    .dataframe thead th {\n",
              "        text-align: right;\n",
              "    }\n",
              "</style>\n",
              "<table border=\"1\" class=\"dataframe\">\n",
              "  <thead>\n",
              "    <tr style=\"text-align: right;\">\n",
              "      <th></th>\n",
              "      <th>Sentiment</th>\n",
              "      <th>Tweet</th>\n",
              "      <th>pre_clean_len</th>\n",
              "      <th>clean</th>\n",
              "    </tr>\n",
              "  </thead>\n",
              "  <tbody>\n",
              "    <tr>\n",
              "      <th>0</th>\n",
              "      <td>neg</td>\n",
              "      <td>@jamielewislewis i cant believe it, it really ...</td>\n",
              "      <td>138</td>\n",
              "      <td>believ realli belong hope ruin im bad thank ho...</td>\n",
              "    </tr>\n",
              "    <tr>\n",
              "      <th>1</th>\n",
              "      <td>pos</td>\n",
              "      <td>having a vodka tonic and looking forward to go...</td>\n",
              "      <td>112</td>\n",
              "      <td>vodka tonic look forward go saddl ranch westga...</td>\n",
              "    </tr>\n",
              "    <tr>\n",
              "      <th>2</th>\n",
              "      <td>pos</td>\n",
              "      <td>@ddlovatofans1neg1 Could you follow me please....</td>\n",
              "      <td>76</td>\n",
              "      <td>could follow pleas would realli appreci</td>\n",
              "    </tr>\n",
              "    <tr>\n",
              "      <th>3</th>\n",
              "      <td>pos</td>\n",
              "      <td>@jordanknight for once.................. PLEAS...</td>\n",
              "      <td>94</td>\n",
              "      <td>pleas tell u think person</td>\n",
              "    </tr>\n",
              "    <tr>\n",
              "      <th>4</th>\n",
              "      <td>neg</td>\n",
              "      <td>Had a dream about a walk in fast food resturau...</td>\n",
              "      <td>118</td>\n",
              "      <td>dream walk fast food resturaunt sold ice cream...</td>\n",
              "    </tr>\n",
              "  </tbody>\n",
              "</table>\n",
              "</div>"
            ],
            "text/plain": [
              "  Sentiment  ...                                              clean\n",
              "0       neg  ...  believ realli belong hope ruin im bad thank ho...\n",
              "1       pos  ...  vodka tonic look forward go saddl ranch westga...\n",
              "2       pos  ...            could follow pleas would realli appreci\n",
              "3       pos  ...                          pleas tell u think person\n",
              "4       neg  ...  dream walk fast food resturaunt sold ice cream...\n",
              "\n",
              "[5 rows x 4 columns]"
            ]
          },
          "metadata": {
            "tags": []
          },
          "execution_count": 141
        }
      ]
    },
    {
      "cell_type": "code",
      "metadata": {
        "id": "8271OU15RNSM",
        "colab_type": "code",
        "outputId": "290d82fd-ede4-4b25-bbea-2a1486deffd8",
        "colab": {
          "base_uri": "https://localhost:8080/",
          "height": 204
        }
      },
      "source": [
        "clean_df=df[['clean','Sentiment']].copy()\n",
        "\n",
        "clean_df= clean_df.rename(columns={'clean': 'text', 'Sentiment': 'target'})\n",
        "clean_df.head()"
      ],
      "execution_count": 0,
      "outputs": [
        {
          "output_type": "execute_result",
          "data": {
            "text/html": [
              "<div>\n",
              "<style scoped>\n",
              "    .dataframe tbody tr th:only-of-type {\n",
              "        vertical-align: middle;\n",
              "    }\n",
              "\n",
              "    .dataframe tbody tr th {\n",
              "        vertical-align: top;\n",
              "    }\n",
              "\n",
              "    .dataframe thead th {\n",
              "        text-align: right;\n",
              "    }\n",
              "</style>\n",
              "<table border=\"1\" class=\"dataframe\">\n",
              "  <thead>\n",
              "    <tr style=\"text-align: right;\">\n",
              "      <th></th>\n",
              "      <th>text</th>\n",
              "      <th>target</th>\n",
              "    </tr>\n",
              "  </thead>\n",
              "  <tbody>\n",
              "    <tr>\n",
              "      <th>0</th>\n",
              "      <td>believ realli belong hope ruin im bad thank ho...</td>\n",
              "      <td>neg</td>\n",
              "    </tr>\n",
              "    <tr>\n",
              "      <th>1</th>\n",
              "      <td>vodka tonic look forward go saddl ranch westga...</td>\n",
              "      <td>pos</td>\n",
              "    </tr>\n",
              "    <tr>\n",
              "      <th>2</th>\n",
              "      <td>could follow pleas would realli appreci</td>\n",
              "      <td>pos</td>\n",
              "    </tr>\n",
              "    <tr>\n",
              "      <th>3</th>\n",
              "      <td>pleas tell u think person</td>\n",
              "      <td>pos</td>\n",
              "    </tr>\n",
              "    <tr>\n",
              "      <th>4</th>\n",
              "      <td>dream walk fast food resturaunt sold ice cream...</td>\n",
              "      <td>neg</td>\n",
              "    </tr>\n",
              "  </tbody>\n",
              "</table>\n",
              "</div>"
            ],
            "text/plain": [
              "                                                text target\n",
              "0  believ realli belong hope ruin im bad thank ho...    neg\n",
              "1  vodka tonic look forward go saddl ranch westga...    pos\n",
              "2            could follow pleas would realli appreci    pos\n",
              "3                          pleas tell u think person    pos\n",
              "4  dream walk fast food resturaunt sold ice cream...    neg"
            ]
          },
          "metadata": {
            "tags": []
          },
          "execution_count": 145
        }
      ]
    },
    {
      "cell_type": "code",
      "metadata": {
        "id": "Xqmy7p3rRSJ0",
        "colab_type": "code",
        "colab": {}
      },
      "source": [
        "\n",
        "\n",
        "\n",
        "clean_df.head()\n",
        "\n",
        "replace_values={'pos' : 1, 'neg':0 } \n",
        "\n",
        "clean_df=clean_df.replace({\"target\": replace_values})"
      ],
      "execution_count": 0,
      "outputs": []
    },
    {
      "cell_type": "code",
      "metadata": {
        "id": "MVSHonqmRVLy",
        "colab_type": "code",
        "colab": {}
      },
      "source": [
        "clean_df['clean_len'] = [len(t) for t in clean_df.text]"
      ],
      "execution_count": 0,
      "outputs": []
    },
    {
      "cell_type": "code",
      "metadata": {
        "id": "NeBzNuj8RqTO",
        "colab_type": "code",
        "outputId": "961d246c-fb4e-462f-d236-653fbdf90cde",
        "colab": {
          "base_uri": "https://localhost:8080/",
          "height": 68
        }
      },
      "source": [
        "clean_df[clean_df.clean_len > 140].head(10)\n",
        "\n",
        "clean_df.target.value_counts()"
      ],
      "execution_count": 0,
      "outputs": [
        {
          "output_type": "execute_result",
          "data": {
            "text/plain": [
              "1    1016\n",
              "0     985\n",
              "Name: target, dtype: int64"
            ]
          },
          "metadata": {
            "tags": []
          },
          "execution_count": 236
        }
      ]
    },
    {
      "cell_type": "code",
      "metadata": {
        "id": "il9rh8qeRsuP",
        "colab_type": "code",
        "outputId": "36ff0f81-c843-4b6f-accb-6203abc99644",
        "colab": {
          "base_uri": "https://localhost:8080/",
          "height": 51
        }
      },
      "source": [
        "X = clean_df.text # get all the text in x variable\n",
        "y = clean_df.target # get all the sentiments into y variable\n",
        "print(X.shape) #print shape of x\n",
        "print(y.shape) # print shape of y"
      ],
      "execution_count": 0,
      "outputs": [
        {
          "output_type": "stream",
          "text": [
            "(2001,)\n",
            "(2001,)\n"
          ],
          "name": "stdout"
        }
      ]
    },
    {
      "cell_type": "code",
      "metadata": {
        "id": "-WUVhu8TR6uA",
        "colab_type": "code",
        "colab": {}
      },
      "source": [
        "from sklearn.model_selection import train_test_split #from sklearn.cross_validation import train_test_split to split the data into training and tesing set\n",
        "X_train, X_test, y_train, y_test = train_test_split(X, y, test_size = 0.7, random_state= 42)"
      ],
      "execution_count": 0,
      "outputs": []
    },
    {
      "cell_type": "code",
      "metadata": {
        "id": "U2dStGffTnct",
        "colab_type": "code",
        "colab": {}
      },
      "source": [
        "vect = TfidfVectorizer(analyzer = \"word\", ngram_range=(1,3))"
      ],
      "execution_count": 0,
      "outputs": []
    },
    {
      "cell_type": "code",
      "metadata": {
        "id": "_Y9c9g9aUcYb",
        "colab_type": "code",
        "colab": {}
      },
      "source": [
        "vect.fit(X_train) # fit or traing data tweets to vect\n",
        "X_train_dtm = vect.transform(X_train) # transform our training data tweets"
      ],
      "execution_count": 0,
      "outputs": []
    },
    {
      "cell_type": "code",
      "metadata": {
        "id": "5jLiAPHZWvCU",
        "colab_type": "code",
        "colab": {}
      },
      "source": [
        "X_test_dtm = vect.transform(X_test)# transform our testing data tweets"
      ],
      "execution_count": 0,
      "outputs": []
    },
    {
      "cell_type": "code",
      "metadata": {
        "id": "io0W2pNCW_j-",
        "colab_type": "code",
        "colab": {}
      },
      "source": [
        "from sklearn.naive_bayes import MultinomialNB # import Multinomial Naive Bayes model from sklearn.naive_bayes\n",
        "nb = MultinomialNB(alpha = 10) # get object of Multinomial naive bayes model with alpha parameter = 10"
      ],
      "execution_count": 0,
      "outputs": []
    },
    {
      "cell_type": "code",
      "metadata": {
        "id": "WAitzdVPXDOG",
        "colab_type": "code",
        "outputId": "65bb9ede-f1d2-4379-a890-2bda284ca73c",
        "colab": {
          "base_uri": "https://localhost:8080/",
          "height": 34
        }
      },
      "source": [
        "nb.fit(X_train_dtm, y_train)"
      ],
      "execution_count": 0,
      "outputs": [
        {
          "output_type": "execute_result",
          "data": {
            "text/plain": [
              "MultinomialNB(alpha=10, class_prior=None, fit_prior=True)"
            ]
          },
          "metadata": {
            "tags": []
          },
          "execution_count": 243
        }
      ]
    },
    {
      "cell_type": "code",
      "metadata": {
        "id": "ia605ETPXHF2",
        "colab_type": "code",
        "outputId": "09745338-9850-42c0-ed10-fedcfc53f3ac",
        "colab": {
          "base_uri": "https://localhost:8080/",
          "height": 34
        }
      },
      "source": [
        "from sklearn.model_selection import cross_val_score  # import cross_val_score from sklear.model_selection\n",
        "accuracies = cross_val_score(estimator = nb, X = X_train_dtm, y = y_train, cv = 10) # do K- fold cross validation on our traing data and its sentimenst with 10 fold cross validation\n",
        "accuracies.mean() # measure the mean accuray of 10 fold cross validation"
      ],
      "execution_count": 0,
      "outputs": [
        {
          "output_type": "execute_result",
          "data": {
            "text/plain": [
              "0.6401366120218579"
            ]
          },
          "metadata": {
            "tags": []
          },
          "execution_count": 244
        }
      ]
    },
    {
      "cell_type": "code",
      "metadata": {
        "id": "ww6MQMEAXXSl",
        "colab_type": "code",
        "colab": {}
      },
      "source": [
        "y_pred_nb = nb.predict(X_test_dtm)"
      ],
      "execution_count": 0,
      "outputs": []
    },
    {
      "cell_type": "code",
      "metadata": {
        "id": "mOQHwMNoXdrQ",
        "colab_type": "code",
        "outputId": "fff22054-545b-4cc1-be82-cd27eca0aafc",
        "colab": {
          "base_uri": "https://localhost:8080/",
          "height": 34
        }
      },
      "source": [
        "from sklearn import metrics # import metrics from sklearn\n",
        "metrics.accuracy_score(y_test, y_pred_nb) # measure the accuracy of our model on the testing data"
      ],
      "execution_count": 0,
      "outputs": [
        {
          "output_type": "execute_result",
          "data": {
            "text/plain": [
              "0.675231977159172"
            ]
          },
          "metadata": {
            "tags": []
          },
          "execution_count": 246
        }
      ]
    },
    {
      "cell_type": "code",
      "metadata": {
        "id": "9JiGMcMCXhpC",
        "colab_type": "code",
        "outputId": "da8aba42-d01d-4641-b5ff-f3da2d711a68",
        "colab": {
          "base_uri": "https://localhost:8080/",
          "height": 51
        }
      },
      "source": [
        "from sklearn.metrics import confusion_matrix # import confusion matrix from the sklearn.metrics\n",
        "confusion_matrix(y_test, y_pred_nb) # plot the confusion matrix between our predicted sentiments and the original testing data sentiments"
      ],
      "execution_count": 0,
      "outputs": [
        {
          "output_type": "execute_result",
          "data": {
            "text/plain": [
              "array([[401, 287],\n",
              "       [168, 545]])"
            ]
          },
          "metadata": {
            "tags": []
          },
          "execution_count": 247
        }
      ]
    },
    {
      "cell_type": "markdown",
      "metadata": {
        "id": "agcKgWzSX3c5",
        "colab_type": "text"
      },
      "source": [
        "# Logistic regression"
      ]
    },
    {
      "cell_type": "code",
      "metadata": {
        "id": "W-xIqmxIXqhr",
        "colab_type": "code",
        "outputId": "7a649282-743d-485a-90ef-c68dbd6c7343",
        "colab": {
          "base_uri": "https://localhost:8080/",
          "height": 156
        }
      },
      "source": [
        "from sklearn.linear_model import LogisticRegression # import Logistic Regression model from sklearn.linear_model\n",
        "logisticRegr = LogisticRegression(C = 1.1) # get object of logistic regression model with cost parameter = 1.1\n",
        "\n",
        "logisticRegr.fit(X_train_dtm, y_train)# fit our both traing data tweets as well as its sentiments to the logistic regression model"
      ],
      "execution_count": 0,
      "outputs": [
        {
          "output_type": "stream",
          "text": [
            "/usr/local/lib/python3.6/dist-packages/sklearn/linear_model/logistic.py:432: FutureWarning: Default solver will be changed to 'lbfgs' in 0.22. Specify a solver to silence this warning.\n",
            "  FutureWarning)\n"
          ],
          "name": "stderr"
        },
        {
          "output_type": "execute_result",
          "data": {
            "text/plain": [
              "LogisticRegression(C=1.1, class_weight=None, dual=False, fit_intercept=True,\n",
              "                   intercept_scaling=1, l1_ratio=None, max_iter=100,\n",
              "                   multi_class='warn', n_jobs=None, penalty='l2',\n",
              "                   random_state=None, solver='warn', tol=0.0001, verbose=0,\n",
              "                   warm_start=False)"
            ]
          },
          "metadata": {
            "tags": []
          },
          "execution_count": 248
        }
      ]
    },
    {
      "cell_type": "code",
      "metadata": {
        "id": "GGl-jpCCX01V",
        "colab_type": "code",
        "outputId": "e495491b-e61f-4b90-9eca-7b1fc3a001d6",
        "colab": {
          "base_uri": "https://localhost:8080/",
          "height": 88
        }
      },
      "source": [
        "from sklearn.model_selection import cross_val_score # import cross_val_score from sklear.model_selection\n",
        "accuracies = cross_val_score(estimator = logisticRegr, X = X_train_dtm, y = y_train, cv = 10) # do K- fold cross validation on our traing data and its sentimenst with 10 fold cross validation\n",
        "accuracies.mean() "
      ],
      "execution_count": 0,
      "outputs": [
        {
          "output_type": "stream",
          "text": [
            "/usr/local/lib/python3.6/dist-packages/sklearn/linear_model/logistic.py:432: FutureWarning: Default solver will be changed to 'lbfgs' in 0.22. Specify a solver to silence this warning.\n",
            "  FutureWarning)\n"
          ],
          "name": "stderr"
        },
        {
          "output_type": "execute_result",
          "data": {
            "text/plain": [
              "0.6604709641567102"
            ]
          },
          "metadata": {
            "tags": []
          },
          "execution_count": 249
        }
      ]
    },
    {
      "cell_type": "code",
      "metadata": {
        "id": "QowYGGuGX-vz",
        "colab_type": "code",
        "outputId": "0001cefd-c633-490c-ef42-705971a8fd7c",
        "colab": {
          "base_uri": "https://localhost:8080/",
          "height": 34
        }
      },
      "source": [
        "y_pred_lg = logisticRegr.predict(X_test_dtm)  # predict the sentiments of testing data tweets\n",
        "\n",
        "from sklearn import metrics # import metrics from sklearn\n",
        "metrics.accuracy_score(y_test, y_pred_lg) # measure the accuracy of our model on the testing data"
      ],
      "execution_count": 0,
      "outputs": [
        {
          "output_type": "execute_result",
          "data": {
            "text/plain": [
              "0.6823697359029265"
            ]
          },
          "metadata": {
            "tags": []
          },
          "execution_count": 250
        }
      ]
    },
    {
      "cell_type": "code",
      "metadata": {
        "id": "4IliPispG6DS",
        "colab_type": "code",
        "outputId": "6e205515-5b2a-47ae-81b2-49037e503b4d",
        "colab": {
          "base_uri": "https://localhost:8080/",
          "height": 286
        }
      },
      "source": [
        "# Training Set\n",
        "from sklearn import metrics\n",
        "from sklearn.metrics import roc_curve\n",
        "from sklearn.metrics import roc_auc_score\n",
        "from matplotlib import pyplot\n",
        "\n",
        "probs = logisticRegr.predict_proba(X_test_dtm)\n",
        "\n",
        "probs = probs[:, 1]\n",
        "# calculate AUC\n",
        "auc = roc_auc_score(y_test, probs)\n",
        "print('AUC: %.3f' % auc)\n",
        "\n",
        "fpr, tpr, thresholds = roc_curve(y_test, probs)\n",
        "# plot no skill\n",
        "pyplot.plot([0, 1], [0, 1], linestyle='--')\n",
        "# plot the roc curve for the model\n",
        "pyplot.plot(fpr, tpr, marker='.')\n",
        "# show the plot\n",
        "pyplot.show()"
      ],
      "execution_count": 0,
      "outputs": [
        {
          "output_type": "stream",
          "text": [
            "AUC: 0.737\n"
          ],
          "name": "stdout"
        },
        {
          "output_type": "display_data",
          "data": {
            "image/png": "[encoded data removed]",
            "text/plain": [
              "<Figure size 432x288 with 1 Axes>"
            ]
          },
          "metadata": {
            "tags": []
          }
        }
      ]
    },
    {
      "cell_type": "code",
      "metadata": {
        "id": "CjMC8EsoGtwV",
        "colab_type": "code",
        "colab": {}
      },
      "source": [
        ""
      ],
      "execution_count": 0,
      "outputs": []
    }
  ]
}