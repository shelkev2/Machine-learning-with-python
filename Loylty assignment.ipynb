{
 "cells": [
  {
   "cell_type": "markdown",
   "metadata": {},
   "source": [
    "# Import data in notebook"
   ]
  },
  {
   "cell_type": "code",
   "execution_count": 297,
   "metadata": {},
   "outputs": [
    {
     "data": {
      "text/plain": [
       "Index(['member_id', 'age', 'card_type', 'registered_on_bank_portal',\n",
       "       'resident_city', 'pincode', 'mobile_valid', 'email_valid', 'gender'],\n",
       "      dtype='object')"
      ]
     },
     "execution_count": 297,
     "metadata": {},
     "output_type": "execute_result"
    }
   ],
   "source": [
    "import pandas as pd\n",
    "import numpy as np                                                         # import libraries\n",
    "import matplotlib.pyplot as plt\n",
    "\n",
    "profileData=r\"E:\\ML\\Loylty\\Data_Request_1_Profile_Snippet.csv\"\n",
    "                                                                           # import data \n",
    "transcationData=r\"E:\\ML\\Loylty\\Data_Request_1_Transaction_Snippet.csv\"\n",
    "\n",
    "dfp=pd.read_csv(profileData)                              # read data in dataframe\n",
    "dfp.columns                                               # columns in dataframe"
   ]
  },
  {
   "cell_type": "code",
   "execution_count": 4,
   "metadata": {},
   "outputs": [
    {
     "data": {
      "text/html": [
       "<div>\n",
       "<style scoped>\n",
       "    .dataframe tbody tr th:only-of-type {\n",
       "        vertical-align: middle;\n",
       "    }\n",
       "\n",
       "    .dataframe tbody tr th {\n",
       "        vertical-align: top;\n",
       "    }\n",
       "\n",
       "    .dataframe thead th {\n",
       "        text-align: right;\n",
       "    }\n",
       "</style>\n",
       "<table border=\"1\" class=\"dataframe\">\n",
       "  <thead>\n",
       "    <tr style=\"text-align: right;\">\n",
       "      <th></th>\n",
       "      <th>member_id</th>\n",
       "      <th>age</th>\n",
       "      <th>card_type</th>\n",
       "      <th>registered_on_bank_portal</th>\n",
       "      <th>resident_city</th>\n",
       "      <th>pincode</th>\n",
       "      <th>mobile_valid</th>\n",
       "      <th>email_valid</th>\n",
       "      <th>gender</th>\n",
       "    </tr>\n",
       "  </thead>\n",
       "  <tbody>\n",
       "    <tr>\n",
       "      <th>0</th>\n",
       "      <td>23109741416645</td>\n",
       "      <td>50.0</td>\n",
       "      <td>debit</td>\n",
       "      <td>0.0</td>\n",
       "      <td>Hyderabad</td>\n",
       "      <td>500062</td>\n",
       "      <td>1</td>\n",
       "      <td>0</td>\n",
       "      <td>female</td>\n",
       "    </tr>\n",
       "    <tr>\n",
       "      <th>1</th>\n",
       "      <td>23100844687745</td>\n",
       "      <td>21.0</td>\n",
       "      <td>debit</td>\n",
       "      <td>1.0</td>\n",
       "      <td>Dhanbad</td>\n",
       "      <td>828127</td>\n",
       "      <td>1</td>\n",
       "      <td>1</td>\n",
       "      <td>male</td>\n",
       "    </tr>\n",
       "    <tr>\n",
       "      <th>2</th>\n",
       "      <td>2373505260545</td>\n",
       "      <td>44.0</td>\n",
       "      <td>debit</td>\n",
       "      <td>0.0</td>\n",
       "      <td>Pasighat</td>\n",
       "      <td>791001</td>\n",
       "      <td>1</td>\n",
       "      <td>0</td>\n",
       "      <td>male</td>\n",
       "    </tr>\n",
       "    <tr>\n",
       "      <th>3</th>\n",
       "      <td>23103211659945</td>\n",
       "      <td>22.0</td>\n",
       "      <td>debit</td>\n",
       "      <td>1.0</td>\n",
       "      <td>NaN</td>\n",
       "      <td>302017</td>\n",
       "      <td>1</td>\n",
       "      <td>0</td>\n",
       "      <td>unknown</td>\n",
       "    </tr>\n",
       "    <tr>\n",
       "      <th>4</th>\n",
       "      <td>23107731322745</td>\n",
       "      <td>28.0</td>\n",
       "      <td>debit</td>\n",
       "      <td>1.0</td>\n",
       "      <td>Kasaragod</td>\n",
       "      <td>671541</td>\n",
       "      <td>1</td>\n",
       "      <td>1</td>\n",
       "      <td>unknown</td>\n",
       "    </tr>\n",
       "  </tbody>\n",
       "</table>\n",
       "</div>"
      ],
      "text/plain": [
       "        member_id   age card_type  registered_on_bank_portal resident_city  \\\n",
       "0  23109741416645  50.0     debit                        0.0     Hyderabad   \n",
       "1  23100844687745  21.0     debit                        1.0       Dhanbad   \n",
       "2   2373505260545  44.0     debit                        0.0      Pasighat   \n",
       "3  23103211659945  22.0     debit                        1.0           NaN   \n",
       "4  23107731322745  28.0     debit                        1.0     Kasaragod   \n",
       "\n",
       "  pincode  mobile_valid  email_valid   gender  \n",
       "0  500062             1            0   female  \n",
       "1  828127             1            1     male  \n",
       "2  791001             1            0     male  \n",
       "3  302017             1            0  unknown  \n",
       "4  671541             1            1  unknown  "
      ]
     },
     "execution_count": 4,
     "metadata": {},
     "output_type": "execute_result"
    }
   ],
   "source": [
    "dfp.head()"
   ]
  },
  {
   "cell_type": "code",
   "execution_count": 5,
   "metadata": {},
   "outputs": [
    {
     "data": {
      "text/plain": [
       "Index(['transaction_id', 'member_id', 'brand_name', 'transaction_amount',\n",
       "       'transaction_date', 'category', 'subcategory', 'transaction_city',\n",
       "       'transaction_type'],\n",
       "      dtype='object')"
      ]
     },
     "execution_count": 5,
     "metadata": {},
     "output_type": "execute_result"
    }
   ],
   "source": [
    "dft=pd.read_csv(transcationData,encoding='latin-1')\n",
    "dft.columns"
   ]
  },
  {
   "cell_type": "code",
   "execution_count": 6,
   "metadata": {},
   "outputs": [
    {
     "data": {
      "text/html": [
       "<div>\n",
       "<style scoped>\n",
       "    .dataframe tbody tr th:only-of-type {\n",
       "        vertical-align: middle;\n",
       "    }\n",
       "\n",
       "    .dataframe tbody tr th {\n",
       "        vertical-align: top;\n",
       "    }\n",
       "\n",
       "    .dataframe thead th {\n",
       "        text-align: right;\n",
       "    }\n",
       "</style>\n",
       "<table border=\"1\" class=\"dataframe\">\n",
       "  <thead>\n",
       "    <tr style=\"text-align: right;\">\n",
       "      <th></th>\n",
       "      <th>transaction_id</th>\n",
       "      <th>member_id</th>\n",
       "      <th>brand_name</th>\n",
       "      <th>transaction_amount</th>\n",
       "      <th>transaction_date</th>\n",
       "      <th>category</th>\n",
       "      <th>subcategory</th>\n",
       "      <th>transaction_city</th>\n",
       "      <th>transaction_type</th>\n",
       "    </tr>\n",
       "  </thead>\n",
       "  <tbody>\n",
       "    <tr>\n",
       "      <th>0</th>\n",
       "      <td>8.938280e+12</td>\n",
       "      <td>2.312410e+13</td>\n",
       "      <td>REEBOK</td>\n",
       "      <td>339.15</td>\n",
       "      <td>19-01-16</td>\n",
       "      <td>RETAIL</td>\n",
       "      <td>FOOTWEAR</td>\n",
       "      <td>UDUPI</td>\n",
       "      <td>offline</td>\n",
       "    </tr>\n",
       "    <tr>\n",
       "      <th>1</th>\n",
       "      <td>8.955070e+12</td>\n",
       "      <td>2.354210e+12</td>\n",
       "      <td>FARM SQUARE</td>\n",
       "      <td>3145.00</td>\n",
       "      <td>03-12-16</td>\n",
       "      <td>RETAIL</td>\n",
       "      <td>SUPERMARTS</td>\n",
       "      <td>DELHI</td>\n",
       "      <td>offline</td>\n",
       "    </tr>\n",
       "    <tr>\n",
       "      <th>2</th>\n",
       "      <td>8.953230e+12</td>\n",
       "      <td>2.357020e+12</td>\n",
       "      <td>paytm</td>\n",
       "      <td>169.15</td>\n",
       "      <td>08-11-16</td>\n",
       "      <td>SERVICES</td>\n",
       "      <td>TELECOM</td>\n",
       "      <td>NaN</td>\n",
       "      <td>online</td>\n",
       "    </tr>\n",
       "    <tr>\n",
       "      <th>3</th>\n",
       "      <td>8.962740e+12</td>\n",
       "      <td>2.344210e+13</td>\n",
       "      <td>RASHID KHODADAD COP</td>\n",
       "      <td>2550.00</td>\n",
       "      <td>30-01-17</td>\n",
       "      <td>NaN</td>\n",
       "      <td>NaN</td>\n",
       "      <td>PUNE</td>\n",
       "      <td>offline</td>\n",
       "    </tr>\n",
       "    <tr>\n",
       "      <th>4</th>\n",
       "      <td>8.936610e+12</td>\n",
       "      <td>2.312290e+13</td>\n",
       "      <td>ADIDAS</td>\n",
       "      <td>1699.15</td>\n",
       "      <td>02-12-15</td>\n",
       "      <td>APPAREL</td>\n",
       "      <td>FAMILY APPAREL</td>\n",
       "      <td>DELHI</td>\n",
       "      <td>offline</td>\n",
       "    </tr>\n",
       "  </tbody>\n",
       "</table>\n",
       "</div>"
      ],
      "text/plain": [
       "   transaction_id     member_id           brand_name  transaction_amount  \\\n",
       "0    8.938280e+12  2.312410e+13               REEBOK              339.15   \n",
       "1    8.955070e+12  2.354210e+12          FARM SQUARE             3145.00   \n",
       "2    8.953230e+12  2.357020e+12                paytm              169.15   \n",
       "3    8.962740e+12  2.344210e+13  RASHID KHODADAD COP             2550.00   \n",
       "4    8.936610e+12  2.312290e+13               ADIDAS             1699.15   \n",
       "\n",
       "  transaction_date  category     subcategory transaction_city transaction_type  \n",
       "0         19-01-16    RETAIL        FOOTWEAR            UDUPI          offline  \n",
       "1         03-12-16    RETAIL      SUPERMARTS            DELHI          offline  \n",
       "2         08-11-16  SERVICES         TELECOM              NaN           online  \n",
       "3         30-01-17       NaN             NaN             PUNE          offline  \n",
       "4         02-12-15   APPAREL  FAMILY APPAREL            DELHI          offline  "
      ]
     },
     "execution_count": 6,
     "metadata": {},
     "output_type": "execute_result"
    }
   ],
   "source": [
    "dft.head()"
   ]
  },
  {
   "cell_type": "markdown",
   "metadata": {},
   "source": [
    "# Basic info about data using info() & describe()"
   ]
  },
  {
   "cell_type": "code",
   "execution_count": 7,
   "metadata": {},
   "outputs": [
    {
     "name": "stdout",
     "output_type": "stream",
     "text": [
      "<class 'pandas.core.frame.DataFrame'>\n",
      "RangeIndex: 774917 entries, 0 to 774916\n",
      "Data columns (total 9 columns):\n",
      "member_id                    774917 non-null int64\n",
      "age                          774589 non-null float64\n",
      "card_type                    774917 non-null object\n",
      "registered_on_bank_portal    773278 non-null float64\n",
      "resident_city                615123 non-null object\n",
      "pincode                      760790 non-null object\n",
      "mobile_valid                 774917 non-null int64\n",
      "email_valid                  774917 non-null int64\n",
      "gender                       774917 non-null object\n",
      "dtypes: float64(2), int64(3), object(4)\n",
      "memory usage: 53.2+ MB\n"
     ]
    }
   ],
   "source": [
    "dfp.info()                 # basic info about dataframe of profile data"
   ]
  },
  {
   "cell_type": "code",
   "execution_count": 8,
   "metadata": {},
   "outputs": [
    {
     "name": "stdout",
     "output_type": "stream",
     "text": [
      "<class 'pandas.core.frame.DataFrame'>\n",
      "RangeIndex: 590201 entries, 0 to 590200\n",
      "Data columns (total 9 columns):\n",
      "transaction_id        590201 non-null float64\n",
      "member_id             590201 non-null float64\n",
      "brand_name            590134 non-null object\n",
      "transaction_amount    590201 non-null float64\n",
      "transaction_date      590201 non-null object\n",
      "category              565942 non-null object\n",
      "subcategory           565942 non-null object\n",
      "transaction_city      537782 non-null object\n",
      "transaction_type      590200 non-null object\n",
      "dtypes: float64(3), object(6)\n",
      "memory usage: 40.5+ MB\n"
     ]
    }
   ],
   "source": [
    "dft.info()"
   ]
  },
  {
   "cell_type": "code",
   "execution_count": 9,
   "metadata": {},
   "outputs": [
    {
     "data": {
      "text/html": [
       "<div>\n",
       "<style scoped>\n",
       "    .dataframe tbody tr th:only-of-type {\n",
       "        vertical-align: middle;\n",
       "    }\n",
       "\n",
       "    .dataframe tbody tr th {\n",
       "        vertical-align: top;\n",
       "    }\n",
       "\n",
       "    .dataframe thead th {\n",
       "        text-align: right;\n",
       "    }\n",
       "</style>\n",
       "<table border=\"1\" class=\"dataframe\">\n",
       "  <thead>\n",
       "    <tr style=\"text-align: right;\">\n",
       "      <th></th>\n",
       "      <th>transaction_id</th>\n",
       "      <th>member_id</th>\n",
       "      <th>transaction_amount</th>\n",
       "    </tr>\n",
       "  </thead>\n",
       "  <tbody>\n",
       "    <tr>\n",
       "      <th>count</th>\n",
       "      <td>5.902010e+05</td>\n",
       "      <td>5.902010e+05</td>\n",
       "      <td>590201.000000</td>\n",
       "    </tr>\n",
       "    <tr>\n",
       "      <th>mean</th>\n",
       "      <td>8.904851e+12</td>\n",
       "      <td>1.209503e+13</td>\n",
       "      <td>2142.642455</td>\n",
       "    </tr>\n",
       "    <tr>\n",
       "      <th>std</th>\n",
       "      <td>6.465337e+11</td>\n",
       "      <td>1.039268e+13</td>\n",
       "      <td>3463.900059</td>\n",
       "    </tr>\n",
       "    <tr>\n",
       "      <th>min</th>\n",
       "      <td>8.961208e+10</td>\n",
       "      <td>2.350010e+12</td>\n",
       "      <td>0.000000</td>\n",
       "    </tr>\n",
       "    <tr>\n",
       "      <th>25%</th>\n",
       "      <td>8.942240e+12</td>\n",
       "      <td>2.357090e+12</td>\n",
       "      <td>225.250000</td>\n",
       "    </tr>\n",
       "    <tr>\n",
       "      <th>50%</th>\n",
       "      <td>8.951690e+12</td>\n",
       "      <td>2.396780e+12</td>\n",
       "      <td>982.532000</td>\n",
       "    </tr>\n",
       "    <tr>\n",
       "      <th>75%</th>\n",
       "      <td>8.961880e+12</td>\n",
       "      <td>2.312400e+13</td>\n",
       "      <td>2755.700000</td>\n",
       "    </tr>\n",
       "    <tr>\n",
       "      <th>max</th>\n",
       "      <td>8.972460e+12</td>\n",
       "      <td>2.346850e+13</td>\n",
       "      <td>169830.000000</td>\n",
       "    </tr>\n",
       "  </tbody>\n",
       "</table>\n",
       "</div>"
      ],
      "text/plain": [
       "       transaction_id     member_id  transaction_amount\n",
       "count    5.902010e+05  5.902010e+05       590201.000000\n",
       "mean     8.904851e+12  1.209503e+13         2142.642455\n",
       "std      6.465337e+11  1.039268e+13         3463.900059\n",
       "min      8.961208e+10  2.350010e+12            0.000000\n",
       "25%      8.942240e+12  2.357090e+12          225.250000\n",
       "50%      8.951690e+12  2.396780e+12          982.532000\n",
       "75%      8.961880e+12  2.312400e+13         2755.700000\n",
       "max      8.972460e+12  2.346850e+13       169830.000000"
      ]
     },
     "execution_count": 9,
     "metadata": {},
     "output_type": "execute_result"
    }
   ],
   "source": [
    "dft.describe()                  "
   ]
  },
  {
   "cell_type": "code",
   "execution_count": 10,
   "metadata": {},
   "outputs": [
    {
     "data": {
      "text/html": [
       "<div>\n",
       "<style scoped>\n",
       "    .dataframe tbody tr th:only-of-type {\n",
       "        vertical-align: middle;\n",
       "    }\n",
       "\n",
       "    .dataframe tbody tr th {\n",
       "        vertical-align: top;\n",
       "    }\n",
       "\n",
       "    .dataframe thead th {\n",
       "        text-align: right;\n",
       "    }\n",
       "</style>\n",
       "<table border=\"1\" class=\"dataframe\">\n",
       "  <thead>\n",
       "    <tr style=\"text-align: right;\">\n",
       "      <th></th>\n",
       "      <th>member_id</th>\n",
       "      <th>age</th>\n",
       "      <th>registered_on_bank_portal</th>\n",
       "      <th>mobile_valid</th>\n",
       "      <th>email_valid</th>\n",
       "    </tr>\n",
       "  </thead>\n",
       "  <tbody>\n",
       "    <tr>\n",
       "      <th>count</th>\n",
       "      <td>7.749170e+05</td>\n",
       "      <td>774589.000000</td>\n",
       "      <td>773278.000000</td>\n",
       "      <td>774917.000000</td>\n",
       "      <td>774917.000000</td>\n",
       "    </tr>\n",
       "    <tr>\n",
       "      <th>mean</th>\n",
       "      <td>1.220452e+13</td>\n",
       "      <td>64.554955</td>\n",
       "      <td>0.132824</td>\n",
       "      <td>0.955549</td>\n",
       "      <td>0.159331</td>\n",
       "    </tr>\n",
       "    <tr>\n",
       "      <th>std</th>\n",
       "      <td>1.040039e+13</td>\n",
       "      <td>42.593156</td>\n",
       "      <td>0.339385</td>\n",
       "      <td>0.206096</td>\n",
       "      <td>0.365984</td>\n",
       "    </tr>\n",
       "    <tr>\n",
       "      <th>min</th>\n",
       "      <td>2.350005e+12</td>\n",
       "      <td>-5682.000000</td>\n",
       "      <td>0.000000</td>\n",
       "      <td>0.000000</td>\n",
       "      <td>0.000000</td>\n",
       "    </tr>\n",
       "    <tr>\n",
       "      <th>25%</th>\n",
       "      <td>2.357287e+12</td>\n",
       "      <td>28.000000</td>\n",
       "      <td>0.000000</td>\n",
       "      <td>1.000000</td>\n",
       "      <td>0.000000</td>\n",
       "    </tr>\n",
       "    <tr>\n",
       "      <th>50%</th>\n",
       "      <td>2.397283e+12</td>\n",
       "      <td>45.000000</td>\n",
       "      <td>0.000000</td>\n",
       "      <td>1.000000</td>\n",
       "      <td>0.000000</td>\n",
       "    </tr>\n",
       "    <tr>\n",
       "      <th>75%</th>\n",
       "      <td>2.312436e+13</td>\n",
       "      <td>117.000000</td>\n",
       "      <td>0.000000</td>\n",
       "      <td>1.000000</td>\n",
       "      <td>0.000000</td>\n",
       "    </tr>\n",
       "    <tr>\n",
       "      <th>max</th>\n",
       "      <td>2.346846e+13</td>\n",
       "      <td>2016.000000</td>\n",
       "      <td>1.000000</td>\n",
       "      <td>1.000000</td>\n",
       "      <td>1.000000</td>\n",
       "    </tr>\n",
       "  </tbody>\n",
       "</table>\n",
       "</div>"
      ],
      "text/plain": [
       "          member_id            age  registered_on_bank_portal   mobile_valid  \\\n",
       "count  7.749170e+05  774589.000000              773278.000000  774917.000000   \n",
       "mean   1.220452e+13      64.554955                   0.132824       0.955549   \n",
       "std    1.040039e+13      42.593156                   0.339385       0.206096   \n",
       "min    2.350005e+12   -5682.000000                   0.000000       0.000000   \n",
       "25%    2.357287e+12      28.000000                   0.000000       1.000000   \n",
       "50%    2.397283e+12      45.000000                   0.000000       1.000000   \n",
       "75%    2.312436e+13     117.000000                   0.000000       1.000000   \n",
       "max    2.346846e+13    2016.000000                   1.000000       1.000000   \n",
       "\n",
       "         email_valid  \n",
       "count  774917.000000  \n",
       "mean        0.159331  \n",
       "std         0.365984  \n",
       "min         0.000000  \n",
       "25%         0.000000  \n",
       "50%         0.000000  \n",
       "75%         0.000000  \n",
       "max         1.000000  "
      ]
     },
     "execution_count": 10,
     "metadata": {},
     "output_type": "execute_result"
    }
   ],
   "source": [
    "dfp.describe()"
   ]
  },
  {
   "cell_type": "markdown",
   "metadata": {},
   "source": [
    "# drop rows which contain NAN value \n",
    "As row are too many so we can drop rows, which will not affect in future"
   ]
  },
  {
   "cell_type": "code",
   "execution_count": 19,
   "metadata": {},
   "outputs": [
    {
     "data": {
      "text/html": [
       "<div>\n",
       "<style scoped>\n",
       "    .dataframe tbody tr th:only-of-type {\n",
       "        vertical-align: middle;\n",
       "    }\n",
       "\n",
       "    .dataframe tbody tr th {\n",
       "        vertical-align: top;\n",
       "    }\n",
       "\n",
       "    .dataframe thead th {\n",
       "        text-align: right;\n",
       "    }\n",
       "</style>\n",
       "<table border=\"1\" class=\"dataframe\">\n",
       "  <thead>\n",
       "    <tr style=\"text-align: right;\">\n",
       "      <th></th>\n",
       "      <th>transaction_id</th>\n",
       "      <th>member_id</th>\n",
       "      <th>brand_name</th>\n",
       "      <th>transaction_amount</th>\n",
       "      <th>transaction_date</th>\n",
       "      <th>category</th>\n",
       "      <th>subcategory</th>\n",
       "      <th>transaction_city</th>\n",
       "      <th>transaction_type</th>\n",
       "    </tr>\n",
       "  </thead>\n",
       "  <tbody>\n",
       "    <tr>\n",
       "      <th>0</th>\n",
       "      <td>8.938280e+12</td>\n",
       "      <td>2.312410e+13</td>\n",
       "      <td>REEBOK</td>\n",
       "      <td>339.15</td>\n",
       "      <td>19-01-16</td>\n",
       "      <td>RETAIL</td>\n",
       "      <td>FOOTWEAR</td>\n",
       "      <td>UDUPI</td>\n",
       "      <td>offline</td>\n",
       "    </tr>\n",
       "    <tr>\n",
       "      <th>1</th>\n",
       "      <td>8.955070e+12</td>\n",
       "      <td>2.354210e+12</td>\n",
       "      <td>FARM SQUARE</td>\n",
       "      <td>3145.00</td>\n",
       "      <td>03-12-16</td>\n",
       "      <td>RETAIL</td>\n",
       "      <td>SUPERMARTS</td>\n",
       "      <td>DELHI</td>\n",
       "      <td>offline</td>\n",
       "    </tr>\n",
       "    <tr>\n",
       "      <th>4</th>\n",
       "      <td>8.936610e+12</td>\n",
       "      <td>2.312290e+13</td>\n",
       "      <td>ADIDAS</td>\n",
       "      <td>1699.15</td>\n",
       "      <td>02-12-15</td>\n",
       "      <td>APPAREL</td>\n",
       "      <td>FAMILY APPAREL</td>\n",
       "      <td>DELHI</td>\n",
       "      <td>offline</td>\n",
       "    </tr>\n",
       "    <tr>\n",
       "      <th>5</th>\n",
       "      <td>8.943330e+12</td>\n",
       "      <td>2.353390e+12</td>\n",
       "      <td>PAYTM MOBILE SOLUTIONS</td>\n",
       "      <td>28.05</td>\n",
       "      <td>03-05-16</td>\n",
       "      <td>SERVICES</td>\n",
       "      <td>TELECOM</td>\n",
       "      <td>NOIDA</td>\n",
       "      <td>online</td>\n",
       "    </tr>\n",
       "    <tr>\n",
       "      <th>6</th>\n",
       "      <td>8.968120e+12</td>\n",
       "      <td>2.352130e+12</td>\n",
       "      <td>REEBOK</td>\n",
       "      <td>3872.60</td>\n",
       "      <td>25-01-17</td>\n",
       "      <td>RETAIL</td>\n",
       "      <td>FOOTWEAR</td>\n",
       "      <td>BANGALORE</td>\n",
       "      <td>offline</td>\n",
       "    </tr>\n",
       "  </tbody>\n",
       "</table>\n",
       "</div>"
      ],
      "text/plain": [
       "   transaction_id     member_id              brand_name  transaction_amount  \\\n",
       "0    8.938280e+12  2.312410e+13                  REEBOK              339.15   \n",
       "1    8.955070e+12  2.354210e+12             FARM SQUARE             3145.00   \n",
       "4    8.936610e+12  2.312290e+13                  ADIDAS             1699.15   \n",
       "5    8.943330e+12  2.353390e+12  PAYTM MOBILE SOLUTIONS               28.05   \n",
       "6    8.968120e+12  2.352130e+12                  REEBOK             3872.60   \n",
       "\n",
       "  transaction_date  category     subcategory transaction_city transaction_type  \n",
       "0         19-01-16    RETAIL        FOOTWEAR            UDUPI          offline  \n",
       "1         03-12-16    RETAIL      SUPERMARTS            DELHI          offline  \n",
       "4         02-12-15   APPAREL  FAMILY APPAREL            DELHI          offline  \n",
       "5         03-05-16  SERVICES         TELECOM            NOIDA           online  \n",
       "6         25-01-17    RETAIL        FOOTWEAR        BANGALORE          offline  "
      ]
     },
     "execution_count": 19,
     "metadata": {},
     "output_type": "execute_result"
    }
   ],
   "source": [
    "dfp1=dfp.dropna()                 # drop NA rows on all column condition\n",
    "dft1=dft.dropna()\n",
    "dft1.head()"
   ]
  },
  {
   "cell_type": "code",
   "execution_count": 151,
   "metadata": {},
   "outputs": [
    {
     "data": {
      "text/html": [
       "<div>\n",
       "<style scoped>\n",
       "    .dataframe tbody tr th:only-of-type {\n",
       "        vertical-align: middle;\n",
       "    }\n",
       "\n",
       "    .dataframe tbody tr th {\n",
       "        vertical-align: top;\n",
       "    }\n",
       "\n",
       "    .dataframe thead th {\n",
       "        text-align: right;\n",
       "    }\n",
       "</style>\n",
       "<table border=\"1\" class=\"dataframe\">\n",
       "  <thead>\n",
       "    <tr style=\"text-align: right;\">\n",
       "      <th></th>\n",
       "      <th>transaction_id</th>\n",
       "      <th>member_id</th>\n",
       "      <th>brand_name</th>\n",
       "      <th>transaction_amount</th>\n",
       "      <th>category</th>\n",
       "      <th>transaction_city</th>\n",
       "      <th>transaction_type</th>\n",
       "    </tr>\n",
       "  </thead>\n",
       "  <tbody>\n",
       "    <tr>\n",
       "      <th>0</th>\n",
       "      <td>8.938280e+12</td>\n",
       "      <td>2.312410e+13</td>\n",
       "      <td>REEBOK</td>\n",
       "      <td>339.15</td>\n",
       "      <td>RETAIL</td>\n",
       "      <td>UDUPI</td>\n",
       "      <td>offline</td>\n",
       "    </tr>\n",
       "    <tr>\n",
       "      <th>1</th>\n",
       "      <td>8.955070e+12</td>\n",
       "      <td>2.354210e+12</td>\n",
       "      <td>FARM SQUARE</td>\n",
       "      <td>3145.00</td>\n",
       "      <td>RETAIL</td>\n",
       "      <td>DELHI</td>\n",
       "      <td>offline</td>\n",
       "    </tr>\n",
       "    <tr>\n",
       "      <th>4</th>\n",
       "      <td>8.936610e+12</td>\n",
       "      <td>2.312290e+13</td>\n",
       "      <td>ADIDAS</td>\n",
       "      <td>1699.15</td>\n",
       "      <td>APPAREL</td>\n",
       "      <td>DELHI</td>\n",
       "      <td>offline</td>\n",
       "    </tr>\n",
       "    <tr>\n",
       "      <th>5</th>\n",
       "      <td>8.943330e+12</td>\n",
       "      <td>2.353390e+12</td>\n",
       "      <td>PAYTM MOBILE SOLUTIONS</td>\n",
       "      <td>28.05</td>\n",
       "      <td>SERVICES</td>\n",
       "      <td>NOIDA</td>\n",
       "      <td>online</td>\n",
       "    </tr>\n",
       "    <tr>\n",
       "      <th>6</th>\n",
       "      <td>8.968120e+12</td>\n",
       "      <td>2.352130e+12</td>\n",
       "      <td>REEBOK</td>\n",
       "      <td>3872.60</td>\n",
       "      <td>RETAIL</td>\n",
       "      <td>BANGALORE</td>\n",
       "      <td>offline</td>\n",
       "    </tr>\n",
       "  </tbody>\n",
       "</table>\n",
       "</div>"
      ],
      "text/plain": [
       "   transaction_id     member_id              brand_name  transaction_amount  \\\n",
       "0    8.938280e+12  2.312410e+13                  REEBOK              339.15   \n",
       "1    8.955070e+12  2.354210e+12             FARM SQUARE             3145.00   \n",
       "4    8.936610e+12  2.312290e+13                  ADIDAS             1699.15   \n",
       "5    8.943330e+12  2.353390e+12  PAYTM MOBILE SOLUTIONS               28.05   \n",
       "6    8.968120e+12  2.352130e+12                  REEBOK             3872.60   \n",
       "\n",
       "   category transaction_city transaction_type  \n",
       "0    RETAIL            UDUPI          offline  \n",
       "1    RETAIL            DELHI          offline  \n",
       "4   APPAREL            DELHI          offline  \n",
       "5  SERVICES            NOIDA           online  \n",
       "6    RETAIL        BANGALORE          offline  "
      ]
     },
     "execution_count": 151,
     "metadata": {},
     "output_type": "execute_result"
    }
   ],
   "source": [
    "dft2=dft1.drop(columns=['transaction_date','subcategory'],axis=1)      # drop unwanted column which do not contain more info\n",
    "dft2.head()"
   ]
  },
  {
   "cell_type": "code",
   "execution_count": 152,
   "metadata": {},
   "outputs": [
    {
     "data": {
      "text/plain": [
       "54010"
      ]
     },
     "execution_count": 152,
     "metadata": {},
     "output_type": "execute_result"
    }
   ],
   "source": [
    "dft2['brand_name'].nunique()                           # count of unique brand_name"
   ]
  },
  {
   "cell_type": "code",
   "execution_count": 302,
   "metadata": {},
   "outputs": [],
   "source": [
    "\n",
    "dft2['transaction_city'].nunique()\n",
    "dft2['Total_t']=''                                      # create new column for future use\n"
   ]
  },
  {
   "cell_type": "code",
   "execution_count": 205,
   "metadata": {},
   "outputs": [],
   "source": [
    "# pandas calculation for top 30 online cities\n",
    "\n",
    "dft33=dft2.groupby(['transaction_city','transaction_type','Total_t']).count()['transaction_amount'].reset_index()\n",
    "dft33=dft3.sort_values(\"transaction_amount\", axis = 0, ascending = False)\n",
    "dft33ofline = dft33[dft33.transaction_type == 'online']\n",
    "dft33online=dft33[dft33.transaction_type == 'offline']\n",
    "dft33online1=dft33online[0:30].rename(columns={'transaction_amount':'Total tran from per city'})\n",
    "dft33ofline1=dft33ofline[0:30].rename(columns={'transaction_amount':'Total tran from per city'})\n",
    "dft33ofline2=dft33ofline1.drop(columns=['transaction_type','Total_t'])\n",
    "dft33online2=dft33online1.drop(columns=['transaction_type','Total_t'])\n"
   ]
  },
  {
   "cell_type": "markdown",
   "metadata": {},
   "source": [
    "# Top 30 online trasaction cities"
   ]
  },
  {
   "cell_type": "code",
   "execution_count": 203,
   "metadata": {},
   "outputs": [
    {
     "data": {
      "text/plain": [
       "Text(0, 0.5, 'Total trasn per cities')"
      ]
     },
     "execution_count": 203,
     "metadata": {},
     "output_type": "execute_result"
    },
    {
     "data": {
      "image/png": "[encoded data removed]",
      "text/plain": [
       "<Figure size 432x288 with 1 Axes>"
      ]
     },
     "metadata": {
      "needs_background": "light"
     },
     "output_type": "display_data"
    }
   ],
   "source": [
    "dft33online2.plot(kind='bar',x='transaction_city',y='Total tran from per city', title='Top 30 online transaction cities')\n",
    "plt.xlabel('City')\n",
    "plt.ylabel('Total trasn per cities')"
   ]
  },
  {
   "cell_type": "markdown",
   "metadata": {},
   "source": [
    "# top 30 offline transaction cities"
   ]
  },
  {
   "cell_type": "code",
   "execution_count": 204,
   "metadata": {},
   "outputs": [
    {
     "data": {
      "text/plain": [
       "Text(0, 0.5, 'Total trasn per cities')"
      ]
     },
     "execution_count": 204,
     "metadata": {},
     "output_type": "execute_result"
    },
    {
     "data": {
      "image/png": "[encoded data removed]",
      "text/plain": [
       "<Figure size 432x288 with 1 Axes>"
      ]
     },
     "metadata": {
      "needs_background": "light"
     },
     "output_type": "display_data"
    }
   ],
   "source": [
    "dft33ofline2.plot(kind='bar',x='transaction_city',y='Total tran from per city', title='Top 30 offline transaction cities')\n",
    "plt.xlabel('City')\n",
    "plt.ylabel('Total trasn per cities')"
   ]
  },
  {
   "cell_type": "markdown",
   "metadata": {},
   "source": [
    "# Top 30 total tran cities based on amout spent"
   ]
  },
  {
   "cell_type": "code",
   "execution_count": 216,
   "metadata": {},
   "outputs": [
    {
     "data": {
      "text/plain": [
       "Text(0, 0.5, 'Total trasn per cities')"
      ]
     },
     "execution_count": 216,
     "metadata": {},
     "output_type": "execute_result"
    },
    {
     "data": {
      "image/png": "[encoded data removed]",
      "text/plain": [
       "<Figure size 432x288 with 1 Axes>"
      ]
     },
     "metadata": {
      "needs_background": "light"
     },
     "output_type": "display_data"
    }
   ],
   "source": [
    "citySpent=dft2.groupby(['transaction_city']).sum()['transaction_amount'].reset_index()\n",
    "citySpent=citySpent.rename(columns={'transaction_amount':'Total trans amout per city'})\n",
    "citySpent1=citySpent.sort_values(\"Total trans amout per city\", axis = 0, ascending = False)\n",
    "citySpent1=citySpent1[0:30]\n",
    "citySpent1.plot(kind='bar',x='transaction_city',y='Total trans amout per city', title='Amout spent in top 30  cities')\n",
    "plt.xlabel('City')\n",
    "plt.ylabel('Total trasn per cities')"
   ]
  },
  {
   "cell_type": "code",
   "execution_count": 154,
   "metadata": {},
   "outputs": [
    {
     "data": {
      "text/plain": [
       "category     Total_t\n",
       "APPAREL                 7.263096e+08\n",
       "ELECTRONICS             2.242929e+07\n",
       "FNB                     9.683144e+06\n",
       "HEALTH                  2.391308e+07\n",
       "JEWELRY                 3.821704e+07\n",
       "LIFESTYLE               4.649543e+07\n",
       "RETAIL                  2.342298e+08\n",
       "SERVICES                7.244345e+07\n",
       "TRAVEL                  1.776426e+07\n",
       "Name: transaction_amount, dtype: float64"
      ]
     },
     "execution_count": 154,
     "metadata": {},
     "output_type": "execute_result"
    }
   ],
   "source": [
    "dft4=dft2.groupby(['category','Total_t']).sum()['transaction_amount']     # total money category wise spent\n",
    "dft4"
   ]
  },
  {
   "cell_type": "code",
   "execution_count": 169,
   "metadata": {},
   "outputs": [
    {
     "name": "stdout",
     "output_type": "stream",
     "text": [
      "online transaction:115543  :::::::: offline transcation:399425\n"
     ]
    }
   ],
   "source": [
    "dfOnline=(dft2['transaction_type']=='online').sum()                   \n",
    "dfOffline=(dft2['transaction_type']=='offline').sum()\n",
    "print(\"online transaction:{}  :::::::: offline transcation:{}\".format(dfOnline,dfOffline))"
   ]
  },
  {
   "cell_type": "code",
   "execution_count": 170,
   "metadata": {},
   "outputs": [
    {
     "name": "stdout",
     "output_type": "stream",
     "text": [
      "online transaction toatl:70383539.23850024  :::::::: offline transcation toatl:1121101505.765506\n"
     ]
    }
   ],
   "source": [
    "trans_mode=dft2.groupby(['category','transaction_type','Total_t']).sum()['transaction_amount'].reset_index()  \n",
    "offlineTotal=sum(trans_mode[trans_mode['transaction_type']=='offline']['transaction_amount'])\n",
    "\n",
    "onlineTotal=sum(trans_mode[trans_mode['transaction_type']=='online']['transaction_amount'])\n",
    "\n",
    "print(\"online transaction toatl:{}  :::::::: offline transcation toatl:{}\".format(onlineTotal,offlineTotal))"
   ]
  },
  {
   "cell_type": "markdown",
   "metadata": {},
   "source": [
    "# Category wise spending "
   ]
  },
  {
   "cell_type": "code",
   "execution_count": 155,
   "metadata": {},
   "outputs": [
    {
     "data": {
      "text/plain": [
       "Text(0, 0.5, 'Total spending')"
      ]
     },
     "execution_count": 155,
     "metadata": {},
     "output_type": "execute_result"
    },
    {
     "data": {
      "image/png": "[encoded data removed]",
      "text/plain": [
       "<Figure size 432x288 with 1 Axes>"
      ]
     },
     "metadata": {
      "needs_background": "light"
     },
     "output_type": "display_data"
    }
   ],
   "source": [
    "import matplotlib.pyplot as plt                                    # plot category wose sepnding\n",
    "dft4.plot(kind=\"bar\",title='Category wise spending')\n",
    "plt.xlabel('Category')\n",
    "plt.ylabel('Total spending')"
   ]
  },
  {
   "cell_type": "code",
   "execution_count": 300,
   "metadata": {},
   "outputs": [],
   "source": [
    "dfBrandSpending=dft2[['brand_name','transaction_amount']]\n",
    "dfBrandSpending1=dfBrandSpending.groupby('brand_name')['transaction_amount'].sum().reset_index()\n",
    "dfBrandSpending2=dfBrandSpending1.sort_values(\"transaction_amount\", axis = 0, ascending = False)\n",
    "dfBrandSpending3=dfBrandSpending2[0:25]"
   ]
  },
  {
   "cell_type": "code",
   "execution_count": 301,
   "metadata": {},
   "outputs": [
    {
     "data": {
      "text/html": [
       "<div>\n",
       "<style scoped>\n",
       "    .dataframe tbody tr th:only-of-type {\n",
       "        vertical-align: middle;\n",
       "    }\n",
       "\n",
       "    .dataframe tbody tr th {\n",
       "        vertical-align: top;\n",
       "    }\n",
       "\n",
       "    .dataframe thead th {\n",
       "        text-align: right;\n",
       "    }\n",
       "</style>\n",
       "<table border=\"1\" class=\"dataframe\">\n",
       "  <thead>\n",
       "    <tr style=\"text-align: right;\">\n",
       "      <th></th>\n",
       "      <th>age</th>\n",
       "      <th>Total count age wise</th>\n",
       "    </tr>\n",
       "  </thead>\n",
       "  <tbody>\n",
       "    <tr>\n",
       "      <th>111</th>\n",
       "      <td>117.0</td>\n",
       "      <td>223441</td>\n",
       "    </tr>\n",
       "    <tr>\n",
       "      <th>29</th>\n",
       "      <td>24.0</td>\n",
       "      <td>19663</td>\n",
       "    </tr>\n",
       "    <tr>\n",
       "      <th>30</th>\n",
       "      <td>25.0</td>\n",
       "      <td>18692</td>\n",
       "    </tr>\n",
       "    <tr>\n",
       "      <th>31</th>\n",
       "      <td>26.0</td>\n",
       "      <td>18691</td>\n",
       "    </tr>\n",
       "    <tr>\n",
       "      <th>28</th>\n",
       "      <td>23.0</td>\n",
       "      <td>18612</td>\n",
       "    </tr>\n",
       "    <tr>\n",
       "      <th>32</th>\n",
       "      <td>27.0</td>\n",
       "      <td>17977</td>\n",
       "    </tr>\n",
       "    <tr>\n",
       "      <th>27</th>\n",
       "      <td>22.0</td>\n",
       "      <td>17269</td>\n",
       "    </tr>\n",
       "    <tr>\n",
       "      <th>33</th>\n",
       "      <td>28.0</td>\n",
       "      <td>16322</td>\n",
       "    </tr>\n",
       "    <tr>\n",
       "      <th>34</th>\n",
       "      <td>29.0</td>\n",
       "      <td>15082</td>\n",
       "    </tr>\n",
       "    <tr>\n",
       "      <th>26</th>\n",
       "      <td>21.0</td>\n",
       "      <td>14226</td>\n",
       "    </tr>\n",
       "  </tbody>\n",
       "</table>\n",
       "</div>"
      ],
      "text/plain": [
       "       age  Total count age wise\n",
       "111  117.0                223441\n",
       "29    24.0                 19663\n",
       "30    25.0                 18692\n",
       "31    26.0                 18691\n",
       "28    23.0                 18612\n",
       "32    27.0                 17977\n",
       "27    22.0                 17269\n",
       "33    28.0                 16322\n",
       "34    29.0                 15082\n",
       "26    21.0                 14226"
      ]
     },
     "execution_count": 301,
     "metadata": {},
     "output_type": "execute_result"
    }
   ],
   "source": [
    "dfp1['Total count age wise']=dfp1['age']\n",
    "dfp2=dfp1.groupby(['age'])['Total count age wise'].count().reset_index()\n",
    "dfp3=dfp2.sort_values('Total count age wise', axis = 0, ascending = False)\n",
    "dfp3.head(10)"
   ]
  },
  {
   "cell_type": "markdown",
   "metadata": {},
   "source": [
    "# age wise counting in profile data"
   ]
  },
  {
   "cell_type": "code",
   "execution_count": 224,
   "metadata": {},
   "outputs": [
    {
     "data": {
      "text/plain": [
       "Text(0, 0.5, 'count')"
      ]
     },
     "execution_count": 224,
     "metadata": {},
     "output_type": "execute_result"
    },
    {
     "data": {
      "image/png": "[encoded data removed]",
      "text/plain": [
       "<Figure size 432x288 with 1 Axes>"
      ]
     },
     "metadata": {
      "needs_background": "light"
     },
     "output_type": "display_data"
    }
   ],
   "source": [
    "dfp2.plot(title='Age wise counting')\n",
    "plt.xlabel('Age')\n",
    "plt.ylabel('count')"
   ]
  },
  {
   "cell_type": "markdown",
   "metadata": {},
   "source": [
    "# Gender wise top target cities "
   ]
  },
  {
   "cell_type": "code",
   "execution_count": 280,
   "metadata": {},
   "outputs": [
    {
     "data": {
      "text/plain": [
       "Text(0, 0.5, 'Count of gender')"
      ]
     },
     "execution_count": 280,
     "metadata": {},
     "output_type": "execute_result"
    },
    {
     "data": {
      "image/png": "[encoded data removed]",
      "text/plain": [
       "<Figure size 432x288 with 1 Axes>"
      ]
     },
     "metadata": {
      "needs_background": "light"
     },
     "output_type": "display_data"
    },
    {
     "data": {
      "image/png": "[encoded data removed]",
      "text/plain": [
       "<Figure size 432x288 with 1 Axes>"
      ]
     },
     "metadata": {
      "needs_background": "light"
     },
     "output_type": "display_data"
    },
    {
     "data": {
      "image/png": "[encoded data removed]",
      "text/plain": [
       "<Figure size 432x288 with 1 Axes>"
      ]
     },
     "metadata": {
      "needs_background": "light"
     },
     "output_type": "display_data"
    }
   ],
   "source": [
    "dfp3=dfp1[['resident_city','gender']].copy()\n",
    "dfp3['resident_city_future_use']=dfp1['resident_city']\n",
    "#dfp3['gender_future_use']=dfp1['gender']\n",
    "\n",
    "dfp3=dfp3.groupby(['resident_city','gender']).count()[['resident_city_future_use']].reset_index()\n",
    "dfp4=dfp3.sort_values('resident_city_future_use', axis = 0, ascending = False)\n",
    "dfp4=dfp4.rename(columns={'resident_city_future_use':'Total count'})\n",
    "dfmale=dfp4[dfp4.gender=='male'][0:30]\n",
    "dffemale=dfp4[dfp4.gender=='female'][0:30]\n",
    "dfother=dfp4[dfp4.gender=='unknown'][0:30]\n",
    "\n",
    "\n",
    "dfmale.plot(x='resident_city',y='Total count',kind='bar',title='male taget top 30 city wise ')\n",
    "plt.xlabel('city to target for gender')\n",
    "plt.ylabel('Count of gender')\n",
    "\n",
    "dffemale.plot(x='resident_city',y='Total count',kind='bar',title='female taget top 30 city wise ')\n",
    "plt.xlabel('city to target for gender')\n",
    "plt.ylabel('Count of gender')\n",
    "\n",
    "dfother.plot(x='resident_city',y='Total count',kind='bar',title='unknown taget top 30 city wise ')\n",
    "plt.xlabel('city to target for gender')\n",
    "plt.ylabel('Count of gender')\n",
    "\n",
    "\n",
    "\n"
   ]
  },
  {
   "cell_type": "markdown",
   "metadata": {},
   "source": [
    "# top Mobile valid user target cities "
   ]
  },
  {
   "cell_type": "code",
   "execution_count": 296,
   "metadata": {},
   "outputs": [
    {
     "data": {
      "text/plain": [
       "Text(0, 0.5, 'Total count of valid user')"
      ]
     },
     "execution_count": 296,
     "metadata": {},
     "output_type": "execute_result"
    },
    {
     "data": {
      "image/png": "[encoded data removed]",
      "text/plain": [
       "<Figure size 432x288 with 1 Axes>"
      ]
     },
     "metadata": {
      "needs_background": "light"
     },
     "output_type": "display_data"
    }
   ],
   "source": [
    "dfv=dfp1[['resident_city','mobile_valid']].copy()\n",
    "dfv['resident_city_future_use']=dfp1['resident_city']\n",
    "#dfp3['gender_future_use']=dfp1['gender']\n",
    "\n",
    "dfv1=dfv.groupby(['resident_city','mobile_valid']).count()[['resident_city_future_use']].reset_index()\n",
    "dfv2=dfv1.sort_values('resident_city_future_use', axis = 0, ascending = False)\n",
    "\n",
    "dfv2=dfv2.rename(columns={'resident_city_future_use':'Total count'})\n",
    "\n",
    "dfvalid=dfv2[dfv2.mobile_valid==1][0:30]\n",
    "\n",
    "dfunvalid=dfv2[dfv2.mobile_valid==0][0:30]\n",
    "\n",
    "\n",
    "\n",
    "dfvalid.plot(x='resident_city',y='Total count',kind='bar',title='Valid mobile user target cities ')\n",
    "plt.xlabel('city to target for valid user')\n",
    "plt.ylabel('Total count of valid user')\n"
   ]
  },
  {
   "cell_type": "markdown",
   "metadata": {},
   "source": [
    "# To grow business user can perform various steps.\n",
    "\n",
    "1) Based on top 30 online & top 30 offline transction cities user can target these cities   \n",
    "2) By using category wise spending graph user can target Apparel & Retail sector.   \n",
    "3) user can target city by gender wise by using gender wise top target  city graph   \n",
    "4) by using mobile valid user data user can target cities with valid user.  \n",
    "5) Using total tran based on amout user can target these cities.\n"
   ]
  },
  {
   "cell_type": "code",
   "execution_count": null,
   "metadata": {},
   "outputs": [],
   "source": []
  }
 ],
 "metadata": {
  "kernelspec": {
   "display_name": "Python 3",
   "language": "python",
   "name": "python3"
  },
  "language_info": {
   "codemirror_mode": {
    "name": "ipython",
    "version": 3
   },
   "file_extension": ".py",
   "mimetype": "text/x-python",
   "name": "python",
   "nbconvert_exporter": "python",
   "pygments_lexer": "ipython3",
   "version": "3.7.1"
  }
 },
 "nbformat": 4,
 "nbformat_minor": 2
}
